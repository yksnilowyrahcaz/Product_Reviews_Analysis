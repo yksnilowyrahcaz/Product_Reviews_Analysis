{
 "cells": [
  {
   "cell_type": "code",
   "execution_count": 1,
   "metadata": {},
   "outputs": [],
   "source": [
    "import pandas as pd\n",
    "from sentence_transformers import SentenceTransformer\n",
    "from sklearn.feature_extraction.text import CountVectorizer"
   ]
  },
  {
   "cell_type": "code",
   "execution_count": 2,
   "metadata": {},
   "outputs": [],
   "source": [
    "df = pd.read_parquet('samples/grocery_clustered_embeddings.parquet')"
   ]
  },
  {
   "cell_type": "code",
   "execution_count": 8,
   "metadata": {},
   "outputs": [],
   "source": [
    "coffee = df[df.labels=='coffee'].review"
   ]
  },
  {
   "cell_type": "code",
   "execution_count": 13,
   "metadata": {},
   "outputs": [
    {
     "name": "stdout",
     "output_type": "stream",
     "text": [
      "CPU times: total: 219 ms\n",
      "Wall time: 208 ms\n"
     ]
    }
   ],
   "source": [
    "# %%time\n",
    "count = CountVectorizer(min_df=5, stop_words='english').fit(coffee)\n",
    "candidates = count.get_feature_names_out()"
   ]
  },
  {
   "cell_type": "code",
   "execution_count": 14,
   "metadata": {},
   "outputs": [
    {
     "data": {
      "application/vnd.jupyter.widget-view+json": {
       "model_id": "f76215821c014158bf4ecc49da182412",
       "version_major": 2,
       "version_minor": 0
      },
      "text/plain": [
       "Downloading:   0%|          | 0.00/690 [00:00<?, ?B/s]"
      ]
     },
     "metadata": {},
     "output_type": "display_data"
    },
    {
     "data": {
      "application/vnd.jupyter.widget-view+json": {
       "model_id": "3a996522b0e842b3bf7a0cc68432d3e5",
       "version_major": 2,
       "version_minor": 0
      },
      "text/plain": [
       "Downloading:   0%|          | 0.00/190 [00:00<?, ?B/s]"
      ]
     },
     "metadata": {},
     "output_type": "display_data"
    },
    {
     "data": {
      "application/vnd.jupyter.widget-view+json": {
       "model_id": "73f4550e590042f4ac0961fd8a51581a",
       "version_major": 2,
       "version_minor": 0
      },
      "text/plain": [
       "Downloading:   0%|          | 0.00/3.99k [00:00<?, ?B/s]"
      ]
     },
     "metadata": {},
     "output_type": "display_data"
    },
    {
     "data": {
      "application/vnd.jupyter.widget-view+json": {
       "model_id": "9922bdb23fca4307b0c9aa97e88e86fe",
       "version_major": 2,
       "version_minor": 0
      },
      "text/plain": [
       "Downloading:   0%|          | 0.00/550 [00:00<?, ?B/s]"
      ]
     },
     "metadata": {},
     "output_type": "display_data"
    },
    {
     "data": {
      "application/vnd.jupyter.widget-view+json": {
       "model_id": "b9f6788443234eafaa5fbff7ed715824",
       "version_major": 2,
       "version_minor": 0
      },
      "text/plain": [
       "Downloading:   0%|          | 0.00/122 [00:00<?, ?B/s]"
      ]
     },
     "metadata": {},
     "output_type": "display_data"
    },
    {
     "data": {
      "application/vnd.jupyter.widget-view+json": {
       "model_id": "bcd7bd562ff84b74a73fd5f934398d0b",
       "version_major": 2,
       "version_minor": 0
      },
      "text/plain": [
       "Downloading:   0%|          | 0.00/265M [00:00<?, ?B/s]"
      ]
     },
     "metadata": {},
     "output_type": "display_data"
    },
    {
     "data": {
      "application/vnd.jupyter.widget-view+json": {
       "model_id": "78e3bf8e68a547e5979e2dca1bdb5f32",
       "version_major": 2,
       "version_minor": 0
      },
      "text/plain": [
       "Downloading:   0%|          | 0.00/53.0 [00:00<?, ?B/s]"
      ]
     },
     "metadata": {},
     "output_type": "display_data"
    },
    {
     "data": {
      "application/vnd.jupyter.widget-view+json": {
       "model_id": "0c88f86139754e528baea255358c2d07",
       "version_major": 2,
       "version_minor": 0
      },
      "text/plain": [
       "Downloading:   0%|          | 0.00/112 [00:00<?, ?B/s]"
      ]
     },
     "metadata": {},
     "output_type": "display_data"
    },
    {
     "data": {
      "application/vnd.jupyter.widget-view+json": {
       "model_id": "5d6da7e75e644ee88e8aab1373cc6e91",
       "version_major": 2,
       "version_minor": 0
      },
      "text/plain": [
       "Downloading:   0%|          | 0.00/466k [00:00<?, ?B/s]"
      ]
     },
     "metadata": {},
     "output_type": "display_data"
    },
    {
     "data": {
      "application/vnd.jupyter.widget-view+json": {
       "model_id": "279114b06a0446afb5e5f7514108b495",
       "version_major": 2,
       "version_minor": 0
      },
      "text/plain": [
       "Downloading:   0%|          | 0.00/450 [00:00<?, ?B/s]"
      ]
     },
     "metadata": {},
     "output_type": "display_data"
    },
    {
     "data": {
      "application/vnd.jupyter.widget-view+json": {
       "model_id": "1b00f8920b5443aab13bdff8d8a5be1f",
       "version_major": 2,
       "version_minor": 0
      },
      "text/plain": [
       "Downloading:   0%|          | 0.00/232k [00:00<?, ?B/s]"
      ]
     },
     "metadata": {},
     "output_type": "display_data"
    },
    {
     "data": {
      "application/vnd.jupyter.widget-view+json": {
       "model_id": "4669bffa1fb34c28a1852c19ef1f118b",
       "version_major": 2,
       "version_minor": 0
      },
      "text/plain": [
       "Downloading:   0%|          | 0.00/229 [00:00<?, ?B/s]"
      ]
     },
     "metadata": {},
     "output_type": "display_data"
    }
   ],
   "source": [
    "model = SentenceTransformer('distilbert-base-nli-mean-tokens')"
   ]
  },
  {
   "cell_type": "code",
   "execution_count": 15,
   "metadata": {},
   "outputs": [],
   "source": [
    "model.save(path='model.pt', model_name='distilbert-base-nli-mean-tokens')"
   ]
  },
  {
   "cell_type": "code",
   "execution_count": 17,
   "metadata": {},
   "outputs": [
    {
     "name": "stdout",
     "output_type": "stream",
     "text": [
      "CPU times: total: 25min 38s\n",
      "Wall time: 6min 36s\n"
     ]
    }
   ],
   "source": [
    "%time doc_embedding = model.encode(coffee.tolist())"
   ]
  },
  {
   "cell_type": "code",
   "execution_count": 19,
   "metadata": {},
   "outputs": [
    {
     "data": {
      "text/plain": [
       "((7731, 768),\n",
       " array([[ 0.09277777, -0.19423124,  0.91040546, ...,  0.09022616,\n",
       "          0.3006782 , -0.89581615],\n",
       "        [-0.29280344,  0.12678905,  0.28470254, ...,  0.8807069 ,\n",
       "          0.13547674, -0.7031219 ],\n",
       "        [-0.26900193,  0.11505219,  0.28977126, ...,  0.4623891 ,\n",
       "         -0.1142708 , -0.43770787],\n",
       "        ...,\n",
       "        [-0.67804015, -0.60036194,  0.45906696, ...,  0.22135499,\n",
       "         -0.07449716, -0.12734628],\n",
       "        [-0.29627576, -0.18420197,  0.5372846 , ...,  0.44228598,\n",
       "         -0.44503224, -0.20379664],\n",
       "        [-0.26966068, -0.5385037 ,  0.4138214 , ...,  0.1294331 ,\n",
       "         -0.5458137 ,  0.00194951]], dtype=float32))"
      ]
     },
     "execution_count": 19,
     "metadata": {},
     "output_type": "execute_result"
    }
   ],
   "source": [
    "doc_embedding.shape, doc_embedding"
   ]
  },
  {
   "cell_type": "code",
   "execution_count": 32,
   "metadata": {},
   "outputs": [],
   "source": [
    "mean_doc_embedding = doc_embedding.mean(axis=0)"
   ]
  },
  {
   "cell_type": "code",
   "execution_count": 26,
   "metadata": {},
   "outputs": [
    {
     "name": "stdout",
     "output_type": "stream",
     "text": [
      "CPU times: total: 33.4 s\n",
      "Wall time: 8.51 s\n"
     ]
    }
   ],
   "source": [
    "%time candidate_embeddings = model.encode(candidates)"
   ]
  },
  {
   "cell_type": "code",
   "execution_count": 28,
   "metadata": {},
   "outputs": [
    {
     "data": {
      "text/plain": [
       "((2541, 768),\n",
       " array([[-0.3524073 , -0.11575425,  0.38016495, ..., -0.6573786 ,\n",
       "         -0.40317225, -0.6600991 ],\n",
       "        [-1.1718513 , -0.35939643,  0.63253826, ..., -0.38831976,\n",
       "          0.09106359, -0.98302585],\n",
       "        [-0.5647676 , -0.05328847,  0.52299094, ..., -0.59879243,\n",
       "         -0.38728356, -0.5681657 ],\n",
       "        ...,\n",
       "        [-0.50929326, -0.3594223 ,  0.2125237 , ...,  0.10140759,\n",
       "         -0.34987637, -0.21217924],\n",
       "        [-0.7713096 , -0.07744987,  0.24580972, ..., -0.05702488,\n",
       "         -0.26014346, -0.47629043],\n",
       "        [-0.5781346 , -0.14670385,  0.03196179, ..., -0.510243  ,\n",
       "         -0.07463825, -0.8674555 ]], dtype=float32))"
      ]
     },
     "execution_count": 28,
     "metadata": {},
     "output_type": "execute_result"
    }
   ],
   "source": [
    "candidate_embeddings.shape, candidate_embeddings"
   ]
  },
  {
   "cell_type": "code",
   "execution_count": 27,
   "metadata": {},
   "outputs": [],
   "source": [
    "from sklearn.metrics.pairwise import cosine_similarity\n",
    "from sentence_transformers import util"
   ]
  },
  {
   "cell_type": "code",
   "execution_count": 39,
   "metadata": {},
   "outputs": [
    {
     "data": {
      "text/plain": [
       "((1, 768), (2541, 768))"
      ]
     },
     "execution_count": 39,
     "metadata": {},
     "output_type": "execute_result"
    }
   ],
   "source": [
    "mean_doc_embedding.reshape(1,-1).shape, candidate_embeddings.shape"
   ]
  },
  {
   "cell_type": "code",
   "execution_count": 42,
   "metadata": {},
   "outputs": [],
   "source": [
    "top_n = 5\n",
    "distances = util.cos_sim(mean_doc_embedding.reshape(1,-1), candidate_embeddings)\n",
    "keywords = [candidates[index] for index in distances.argsort()[0][-top_n:]]"
   ]
  },
  {
   "cell_type": "code",
   "execution_count": 43,
   "metadata": {},
   "outputs": [
    {
     "data": {
      "text/plain": [
       "['coffee', 'flavorable', 'coffeemaker', 'flavorfull', 'starbucks']"
      ]
     },
     "execution_count": 43,
     "metadata": {},
     "output_type": "execute_result"
    }
   ],
   "source": [
    "keywords"
   ]
  },
  {
   "cell_type": "code",
   "execution_count": 50,
   "metadata": {},
   "outputs": [],
   "source": [
    "L = df.labels.unique().tolist()"
   ]
  },
  {
   "cell_type": "code",
   "execution_count": 72,
   "metadata": {},
   "outputs": [
    {
     "name": "stdout",
     "output_type": "stream",
     "text": [
      "CPU times: total: 33 s\n",
      "Wall time: 8.61 s\n"
     ]
    },
    {
     "data": {
      "text/plain": [
       "(['tasty', 'chocolatey', 'flavorable', 'flavorful', 'flavorfull'], 'powder')"
      ]
     },
     "execution_count": 72,
     "metadata": {},
     "output_type": "execute_result"
    }
   ],
   "source": [
    "%%time \n",
    "i = 11\n",
    "x = df[df.labels==L[i]].review\n",
    "mean_doc_embedding = model.encode(x.sample(200).tolist()).mean(axis=0).reshape(1,-1)\n",
    "distances = util.cos_sim(mean_doc_embedding, candidate_embeddings)\n",
    "keywords = [candidates[index] for index in distances.argsort()[0][-top_n:]]\n",
    "keywords, L[i]"
   ]
  },
  {
   "cell_type": "code",
   "execution_count": 73,
   "metadata": {},
   "outputs": [
    {
     "data": {
      "text/plain": [
       "18       Five Stars Great product and fast shipping. Re...\n",
       "25       High quality I am in love with this item. I lo...\n",
       "73       Great flavor, but it clumps terribly Great fla...\n",
       "84       Delicious and full of fiber Tasty raw with a n...\n",
       "99                                  great yum, great stuff\n",
       "                               ...                        \n",
       "99652    Very expensive This is a very good product you...\n",
       "99655    Great cocoa for smoothies! Tasty!  Have only u...\n",
       "99686    Quality product, great price This stuff is exc...\n",
       "99803                       What a deal:))) Supper happy!!\n",
       "99957    Simply the best - for as litle as most of us u...\n",
       "Name: review, Length: 806, dtype: object"
      ]
     },
     "execution_count": 73,
     "metadata": {},
     "output_type": "execute_result"
    }
   ],
   "source": [
    "x"
   ]
  }
 ],
 "metadata": {
  "kernelspec": {
   "display_name": "dmc",
   "language": "python",
   "name": "dmc"
  },
  "language_info": {
   "codemirror_mode": {
    "name": "ipython",
    "version": 3
   },
   "file_extension": ".py",
   "mimetype": "text/x-python",
   "name": "python",
   "nbconvert_exporter": "python",
   "pygments_lexer": "ipython3",
   "version": "3.9.1"
  },
  "orig_nbformat": 4,
  "vscode": {
   "interpreter": {
    "hash": "447e87ed0bcdbe055a7e942ce3b1e03878167af9dcf6983bba6fe4647da6c7c4"
   }
  }
 },
 "nbformat": 4,
 "nbformat_minor": 2
}

{
 "cells": [
  {
   "cell_type": "code",
   "execution_count": 1,
   "metadata": {},
   "outputs": [],
   "source": [
    "import re\n",
    "import csv\n",
    "import spacy\n",
    "import pandas as pd\n",
    "import plotly.express as px\n",
    "import plotly.graph_objects as go\n",
    "from datetime import datetime as dt\n",
    "pd.options.display.max_columns = None\n",
    "from reduce_memory_df import optimize_mem_usage\n",
    "\n",
    "nlp = spacy.load('en_core_web_sm')"
   ]
  },
  {
   "cell_type": "code",
   "execution_count": 2,
   "metadata": {},
   "outputs": [],
   "source": [
    "df = pd.read_csv('data/amazon_reviews_us_Grocery_v1_00.tsv', sep='\\t', quoting=csv.QUOTE_NONE)"
   ]
  },
  {
   "cell_type": "code",
   "execution_count": 4,
   "metadata": {},
   "outputs": [
    {
     "name": "stdout",
     "output_type": "stream",
     "text": [
      "<class 'pandas.core.frame.DataFrame'>\n",
      "RangeIndex: 2402458 entries, 0 to 2402457\n",
      "Data columns (total 15 columns):\n",
      " #   Column             Non-Null Count    Dtype \n",
      "---  ------             --------------    ----- \n",
      " 0   marketplace        2402458 non-null  object\n",
      " 1   customer_id        2402458 non-null  int64 \n",
      " 2   review_id          2402458 non-null  object\n",
      " 3   product_id         2402458 non-null  object\n",
      " 4   product_parent     2402458 non-null  int64 \n",
      " 5   product_title      2402458 non-null  object\n",
      " 6   product_category   2402458 non-null  object\n",
      " 7   star_rating        2402458 non-null  int64 \n",
      " 8   helpful_votes      2402458 non-null  int64 \n",
      " 9   total_votes        2402458 non-null  int64 \n",
      " 10  vine               2402458 non-null  object\n",
      " 11  verified_purchase  2402458 non-null  object\n",
      " 12  review_headline    2402447 non-null  object\n",
      " 13  review_body        2402393 non-null  object\n",
      " 14  review_date        2402458 non-null  object\n",
      "dtypes: int64(5), object(10)\n",
      "memory usage: 274.9+ MB\n"
     ]
    }
   ],
   "source": [
    "df.info(show_counts=True)"
   ]
  },
  {
   "cell_type": "code",
   "execution_count": 5,
   "metadata": {},
   "outputs": [
    {
     "data": {
      "text/plain": [
       "marketplace                1\n",
       "customer_id          1363986\n",
       "review_id            2402458\n",
       "product_id            305512\n",
       "product_parent        268150\n",
       "product_title         273649\n",
       "product_category           1\n",
       "star_rating                5\n",
       "helpful_votes            564\n",
       "total_votes              603\n",
       "vine                       2\n",
       "verified_purchase          2\n",
       "review_headline      1273804\n",
       "review_body          2226078\n",
       "review_date             4404\n",
       "dtype: int64"
      ]
     },
     "execution_count": 5,
     "metadata": {},
     "output_type": "execute_result"
    }
   ],
   "source": [
    "df.nunique()"
   ]
  },
  {
   "cell_type": "markdown",
   "metadata": {},
   "source": [
    "### Inspect the \"not a number\" or NaN values (aka null values)"
   ]
  },
  {
   "cell_type": "code",
   "execution_count": 10,
   "metadata": {},
   "outputs": [
    {
     "name": "stdout",
     "output_type": "stream",
     "text": [
      "(65, 15)\n"
     ]
    },
    {
     "data": {
      "text/html": [
       "<div>\n",
       "<style scoped>\n",
       "    .dataframe tbody tr th:only-of-type {\n",
       "        vertical-align: middle;\n",
       "    }\n",
       "\n",
       "    .dataframe tbody tr th {\n",
       "        vertical-align: top;\n",
       "    }\n",
       "\n",
       "    .dataframe thead th {\n",
       "        text-align: right;\n",
       "    }\n",
       "</style>\n",
       "<table border=\"1\" class=\"dataframe\">\n",
       "  <thead>\n",
       "    <tr style=\"text-align: right;\">\n",
       "      <th></th>\n",
       "      <th>marketplace</th>\n",
       "      <th>customer_id</th>\n",
       "      <th>review_id</th>\n",
       "      <th>product_id</th>\n",
       "      <th>product_parent</th>\n",
       "      <th>product_title</th>\n",
       "      <th>product_category</th>\n",
       "      <th>star_rating</th>\n",
       "      <th>helpful_votes</th>\n",
       "      <th>total_votes</th>\n",
       "      <th>vine</th>\n",
       "      <th>verified_purchase</th>\n",
       "      <th>review_headline</th>\n",
       "      <th>review_body</th>\n",
       "      <th>review_date</th>\n",
       "    </tr>\n",
       "  </thead>\n",
       "  <tbody>\n",
       "    <tr>\n",
       "      <th>4451</th>\n",
       "      <td>US</td>\n",
       "      <td>14526893</td>\n",
       "      <td>R1H6DCLMHV382W</td>\n",
       "      <td>B005DN3DC6</td>\n",
       "      <td>292356201</td>\n",
       "      <td>Iaso Tea</td>\n",
       "      <td>Grocery</td>\n",
       "      <td>5</td>\n",
       "      <td>0</td>\n",
       "      <td>3</td>\n",
       "      <td>N</td>\n",
       "      <td>N</td>\n",
       "      <td>You Can Do It!</td>\n",
       "      <td>NaN</td>\n",
       "      <td>2015-08-30</td>\n",
       "    </tr>\n",
       "    <tr>\n",
       "      <th>8099</th>\n",
       "      <td>US</td>\n",
       "      <td>14534983</td>\n",
       "      <td>R110WTSH3MYZGW</td>\n",
       "      <td>B0080IIKM4</td>\n",
       "      <td>467236352</td>\n",
       "      <td>Quaker Plain Unsalted Rice Cake, 4.47 oz, 3 pk</td>\n",
       "      <td>Grocery</td>\n",
       "      <td>1</td>\n",
       "      <td>2</td>\n",
       "      <td>3</td>\n",
       "      <td>N</td>\n",
       "      <td>Y</td>\n",
       "      <td>One Star</td>\n",
       "      <td>NaN</td>\n",
       "      <td>2015-08-29</td>\n",
       "    </tr>\n",
       "    <tr>\n",
       "      <th>10946</th>\n",
       "      <td>US</td>\n",
       "      <td>18074592</td>\n",
       "      <td>R2QAQ5GE1TM8LV</td>\n",
       "      <td>B00XSAJXVQ</td>\n",
       "      <td>22560023</td>\n",
       "      <td>Matcha Green Tea Powder</td>\n",
       "      <td>Grocery</td>\n",
       "      <td>4</td>\n",
       "      <td>0</td>\n",
       "      <td>0</td>\n",
       "      <td>N</td>\n",
       "      <td>Y</td>\n",
       "      <td>Four Stars</td>\n",
       "      <td>NaN</td>\n",
       "      <td>2015-08-28</td>\n",
       "    </tr>\n",
       "    <tr>\n",
       "      <th>27412</th>\n",
       "      <td>US</td>\n",
       "      <td>2226545</td>\n",
       "      <td>R2J0MZ19BSXZK0</td>\n",
       "      <td>B00991O4NA</td>\n",
       "      <td>992865454</td>\n",
       "      <td>Single Source Party Supply - Sock Monkey Edibl...</td>\n",
       "      <td>Grocery</td>\n",
       "      <td>5</td>\n",
       "      <td>2</td>\n",
       "      <td>2</td>\n",
       "      <td>N</td>\n",
       "      <td>Y</td>\n",
       "      <td>Five Stars</td>\n",
       "      <td>NaN</td>\n",
       "      <td>2015-08-22</td>\n",
       "    </tr>\n",
       "    <tr>\n",
       "      <th>37969</th>\n",
       "      <td>US</td>\n",
       "      <td>47506113</td>\n",
       "      <td>R1EK1A4EAP06W6</td>\n",
       "      <td>B00991QGOA</td>\n",
       "      <td>272125398</td>\n",
       "      <td>Single Source Party Supply - Willy Wonka Edibl...</td>\n",
       "      <td>Grocery</td>\n",
       "      <td>5</td>\n",
       "      <td>0</td>\n",
       "      <td>0</td>\n",
       "      <td>N</td>\n",
       "      <td>Y</td>\n",
       "      <td>Five Stars</td>\n",
       "      <td>NaN</td>\n",
       "      <td>2015-08-18</td>\n",
       "    </tr>\n",
       "  </tbody>\n",
       "</table>\n",
       "</div>"
      ],
      "text/plain": [
       "      marketplace  customer_id       review_id  product_id  product_parent  \\\n",
       "4451           US     14526893  R1H6DCLMHV382W  B005DN3DC6       292356201   \n",
       "8099           US     14534983  R110WTSH3MYZGW  B0080IIKM4       467236352   \n",
       "10946          US     18074592  R2QAQ5GE1TM8LV  B00XSAJXVQ        22560023   \n",
       "27412          US      2226545  R2J0MZ19BSXZK0  B00991O4NA       992865454   \n",
       "37969          US     47506113  R1EK1A4EAP06W6  B00991QGOA       272125398   \n",
       "\n",
       "                                           product_title product_category  \\\n",
       "4451                                            Iaso Tea          Grocery   \n",
       "8099      Quaker Plain Unsalted Rice Cake, 4.47 oz, 3 pk          Grocery   \n",
       "10946                            Matcha Green Tea Powder          Grocery   \n",
       "27412  Single Source Party Supply - Sock Monkey Edibl...          Grocery   \n",
       "37969  Single Source Party Supply - Willy Wonka Edibl...          Grocery   \n",
       "\n",
       "       star_rating  helpful_votes  total_votes vine verified_purchase  \\\n",
       "4451             5              0            3    N                 N   \n",
       "8099             1              2            3    N                 Y   \n",
       "10946            4              0            0    N                 Y   \n",
       "27412            5              2            2    N                 Y   \n",
       "37969            5              0            0    N                 Y   \n",
       "\n",
       "      review_headline review_body review_date  \n",
       "4451   You Can Do It!         NaN  2015-08-30  \n",
       "8099         One Star         NaN  2015-08-29  \n",
       "10946      Four Stars         NaN  2015-08-28  \n",
       "27412      Five Stars         NaN  2015-08-22  \n",
       "37969      Five Stars         NaN  2015-08-18  "
      ]
     },
     "execution_count": 10,
     "metadata": {},
     "output_type": "execute_result"
    }
   ],
   "source": [
    "print(df[df.review_body.isna()].shape)\n",
    "df[df.review_body.isna()].head()"
   ]
  },
  {
   "cell_type": "code",
   "execution_count": 11,
   "metadata": {},
   "outputs": [
    {
     "name": "stdout",
     "output_type": "stream",
     "text": [
      "(11, 15)\n"
     ]
    },
    {
     "data": {
      "text/html": [
       "<div>\n",
       "<style scoped>\n",
       "    .dataframe tbody tr th:only-of-type {\n",
       "        vertical-align: middle;\n",
       "    }\n",
       "\n",
       "    .dataframe tbody tr th {\n",
       "        vertical-align: top;\n",
       "    }\n",
       "\n",
       "    .dataframe thead th {\n",
       "        text-align: right;\n",
       "    }\n",
       "</style>\n",
       "<table border=\"1\" class=\"dataframe\">\n",
       "  <thead>\n",
       "    <tr style=\"text-align: right;\">\n",
       "      <th></th>\n",
       "      <th>marketplace</th>\n",
       "      <th>customer_id</th>\n",
       "      <th>review_id</th>\n",
       "      <th>product_id</th>\n",
       "      <th>product_parent</th>\n",
       "      <th>product_title</th>\n",
       "      <th>product_category</th>\n",
       "      <th>star_rating</th>\n",
       "      <th>helpful_votes</th>\n",
       "      <th>total_votes</th>\n",
       "      <th>vine</th>\n",
       "      <th>verified_purchase</th>\n",
       "      <th>review_headline</th>\n",
       "      <th>review_body</th>\n",
       "      <th>review_date</th>\n",
       "    </tr>\n",
       "  </thead>\n",
       "  <tbody>\n",
       "    <tr>\n",
       "      <th>181503</th>\n",
       "      <td>US</td>\n",
       "      <td>1003646</td>\n",
       "      <td>R227ZKLKQEM2X</td>\n",
       "      <td>B00I08J6S6</td>\n",
       "      <td>760957009</td>\n",
       "      <td>Tully's Coffee French Roast K-cup for Keurig B...</td>\n",
       "      <td>Grocery</td>\n",
       "      <td>5</td>\n",
       "      <td>0</td>\n",
       "      <td>0</td>\n",
       "      <td>N</td>\n",
       "      <td>Y</td>\n",
       "      <td>NaN</td>\n",
       "      <td>Although the product once delivered is always ...</td>\n",
       "      <td>2015-06-29</td>\n",
       "    </tr>\n",
       "    <tr>\n",
       "      <th>345827</th>\n",
       "      <td>US</td>\n",
       "      <td>50649712</td>\n",
       "      <td>R37IE7ME43YZA5</td>\n",
       "      <td>B002UQSSHO</td>\n",
       "      <td>154376421</td>\n",
       "      <td>N'JOY Coffee Creamer - 8/16oz Canisters</td>\n",
       "      <td>Grocery</td>\n",
       "      <td>4</td>\n",
       "      <td>0</td>\n",
       "      <td>0</td>\n",
       "      <td>N</td>\n",
       "      <td>Y</td>\n",
       "      <td>NaN</td>\n",
       "      <td>product itself is fine. however the packing le...</td>\n",
       "      <td>2015-05-03</td>\n",
       "    </tr>\n",
       "    <tr>\n",
       "      <th>489543</th>\n",
       "      <td>US</td>\n",
       "      <td>51045315</td>\n",
       "      <td>RTUNWNWU730DE</td>\n",
       "      <td>B00DWHNTJM</td>\n",
       "      <td>880397874</td>\n",
       "      <td>Tassimo Petit Dej 16 Pods</td>\n",
       "      <td>Grocery</td>\n",
       "      <td>5</td>\n",
       "      <td>0</td>\n",
       "      <td>0</td>\n",
       "      <td>N</td>\n",
       "      <td>Y</td>\n",
       "      <td>NaN</td>\n",
       "      <td>What can I say - it's coffee!</td>\n",
       "      <td>2015-03-16</td>\n",
       "    </tr>\n",
       "    <tr>\n",
       "      <th>511846</th>\n",
       "      <td>US</td>\n",
       "      <td>13305115</td>\n",
       "      <td>R3NWQMCPTWCH9J</td>\n",
       "      <td>B000F4DKB2</td>\n",
       "      <td>280207419</td>\n",
       "      <td>Twinings</td>\n",
       "      <td>Grocery</td>\n",
       "      <td>3</td>\n",
       "      <td>0</td>\n",
       "      <td>0</td>\n",
       "      <td>N</td>\n",
       "      <td>Y</td>\n",
       "      <td>NaN</td>\n",
       "      <td>I didn't realize this was decaf, but, the flav...</td>\n",
       "      <td>2015-03-10</td>\n",
       "    </tr>\n",
       "    <tr>\n",
       "      <th>567751</th>\n",
       "      <td>US</td>\n",
       "      <td>35536171</td>\n",
       "      <td>R362OV7ATOGIO7</td>\n",
       "      <td>B008EM0JMU</td>\n",
       "      <td>489382572</td>\n",
       "      <td>Hidden Springs Maple Vermont Maple Syrup</td>\n",
       "      <td>Grocery</td>\n",
       "      <td>4</td>\n",
       "      <td>0</td>\n",
       "      <td>0</td>\n",
       "      <td>N</td>\n",
       "      <td>Y</td>\n",
       "      <td>NaN</td>\n",
       "      <td>good syrup</td>\n",
       "      <td>2015-02-22</td>\n",
       "    </tr>\n",
       "  </tbody>\n",
       "</table>\n",
       "</div>"
      ],
      "text/plain": [
       "       marketplace  customer_id       review_id  product_id  product_parent  \\\n",
       "181503          US      1003646   R227ZKLKQEM2X  B00I08J6S6       760957009   \n",
       "345827          US     50649712  R37IE7ME43YZA5  B002UQSSHO       154376421   \n",
       "489543          US     51045315   RTUNWNWU730DE  B00DWHNTJM       880397874   \n",
       "511846          US     13305115  R3NWQMCPTWCH9J  B000F4DKB2       280207419   \n",
       "567751          US     35536171  R362OV7ATOGIO7  B008EM0JMU       489382572   \n",
       "\n",
       "                                            product_title product_category  \\\n",
       "181503  Tully's Coffee French Roast K-cup for Keurig B...          Grocery   \n",
       "345827            N'JOY Coffee Creamer - 8/16oz Canisters          Grocery   \n",
       "489543                          Tassimo Petit Dej 16 Pods          Grocery   \n",
       "511846                                           Twinings          Grocery   \n",
       "567751           Hidden Springs Maple Vermont Maple Syrup          Grocery   \n",
       "\n",
       "        star_rating  helpful_votes  total_votes vine verified_purchase  \\\n",
       "181503            5              0            0    N                 Y   \n",
       "345827            4              0            0    N                 Y   \n",
       "489543            5              0            0    N                 Y   \n",
       "511846            3              0            0    N                 Y   \n",
       "567751            4              0            0    N                 Y   \n",
       "\n",
       "       review_headline                                        review_body  \\\n",
       "181503             NaN  Although the product once delivered is always ...   \n",
       "345827             NaN  product itself is fine. however the packing le...   \n",
       "489543             NaN                      What can I say - it's coffee!   \n",
       "511846             NaN  I didn't realize this was decaf, but, the flav...   \n",
       "567751             NaN                                         good syrup   \n",
       "\n",
       "       review_date  \n",
       "181503  2015-06-29  \n",
       "345827  2015-05-03  \n",
       "489543  2015-03-16  \n",
       "511846  2015-03-10  \n",
       "567751  2015-02-22  "
      ]
     },
     "execution_count": 11,
     "metadata": {},
     "output_type": "execute_result"
    }
   ],
   "source": [
    "print(df[df.review_headline.isna()].shape)\n",
    "df[df.review_headline.isna()].head()"
   ]
  },
  {
   "cell_type": "markdown",
   "metadata": {},
   "source": [
    "### Fill NaN with \"none\" token"
   ]
  },
  {
   "cell_type": "code",
   "execution_count": 12,
   "metadata": {},
   "outputs": [],
   "source": [
    "df.fillna('none', inplace=True)"
   ]
  },
  {
   "cell_type": "code",
   "execution_count": 3,
   "metadata": {},
   "outputs": [],
   "source": [
    "df.to_parquet('data/amazon_reviews_grocery.parquet')"
   ]
  },
  {
   "cell_type": "code",
   "execution_count": 2,
   "metadata": {},
   "outputs": [],
   "source": [
    "df = pd.read_parquet('data/amazon_reviews_grocery.parquet')"
   ]
  },
  {
   "cell_type": "code",
   "execution_count": 3,
   "metadata": {},
   "outputs": [],
   "source": [
    "df.drop(columns=['marketplace','product_category'], inplace=True)"
   ]
  },
  {
   "cell_type": "code",
   "execution_count": 4,
   "metadata": {},
   "outputs": [
    {
     "name": "stdout",
     "output_type": "stream",
     "text": [
      "Memory usage of dataframe is 2,053,696,394 bytes\n",
      "Memory usage after optimization is: 1,327,983,592 bytes\n",
      "Decreased by -35.34%\n"
     ]
    }
   ],
   "source": [
    "optimize_mem_usage(df)"
   ]
  },
  {
   "cell_type": "code",
   "execution_count": 5,
   "metadata": {},
   "outputs": [
    {
     "name": "stdout",
     "output_type": "stream",
     "text": [
      "<class 'pandas.core.frame.DataFrame'>\n",
      "RangeIndex: 2402458 entries, 0 to 2402457\n",
      "Data columns (total 13 columns):\n",
      " #   Column             Dtype   \n",
      "---  ------             -----   \n",
      " 0   customer_id        int32   \n",
      " 1   review_id          category\n",
      " 2   product_id         category\n",
      " 3   product_parent     int32   \n",
      " 4   product_title      category\n",
      " 5   star_rating        int8    \n",
      " 6   helpful_votes      int16   \n",
      " 7   total_votes        int16   \n",
      " 8   vine               category\n",
      " 9   verified_purchase  category\n",
      " 10  review_headline    category\n",
      " 11  review_body        category\n",
      " 12  review_date        category\n",
      "dtypes: category(8), int16(2), int32(2), int8(1)\n",
      "memory usage: 311.8 MB\n"
     ]
    }
   ],
   "source": [
    "df.info()"
   ]
  },
  {
   "cell_type": "code",
   "execution_count": 6,
   "metadata": {},
   "outputs": [
    {
     "data": {
      "text/plain": [
       "customer_id          1363986\n",
       "review_id            2402458\n",
       "product_id            305512\n",
       "product_parent        268150\n",
       "product_title         273649\n",
       "star_rating                5\n",
       "helpful_votes            564\n",
       "total_votes              603\n",
       "vine                       2\n",
       "verified_purchase          2\n",
       "review_headline      1273804\n",
       "review_body          2226078\n",
       "review_date             4404\n",
       "dtype: int64"
      ]
     },
     "execution_count": 6,
     "metadata": {},
     "output_type": "execute_result"
    }
   ],
   "source": [
    "df.nunique()"
   ]
  },
  {
   "cell_type": "code",
   "execution_count": 6,
   "metadata": {},
   "outputs": [
    {
     "data": {
      "text/html": [
       "<div>\n",
       "<style scoped>\n",
       "    .dataframe tbody tr th:only-of-type {\n",
       "        vertical-align: middle;\n",
       "    }\n",
       "\n",
       "    .dataframe tbody tr th {\n",
       "        vertical-align: top;\n",
       "    }\n",
       "\n",
       "    .dataframe thead th {\n",
       "        text-align: right;\n",
       "    }\n",
       "</style>\n",
       "<table border=\"1\" class=\"dataframe\">\n",
       "  <thead>\n",
       "    <tr style=\"text-align: right;\">\n",
       "      <th></th>\n",
       "      <th>customer_id</th>\n",
       "      <th>review_id</th>\n",
       "      <th>product_id</th>\n",
       "      <th>product_parent</th>\n",
       "      <th>product_title</th>\n",
       "      <th>star_rating</th>\n",
       "      <th>helpful_votes</th>\n",
       "      <th>total_votes</th>\n",
       "      <th>vine</th>\n",
       "      <th>verified_purchase</th>\n",
       "      <th>review_headline</th>\n",
       "      <th>review_body</th>\n",
       "      <th>review_date</th>\n",
       "    </tr>\n",
       "  </thead>\n",
       "  <tbody>\n",
       "    <tr>\n",
       "      <th>0</th>\n",
       "      <td>42521656</td>\n",
       "      <td>R26MV8D0KG6QI6</td>\n",
       "      <td>B000SAQCWC</td>\n",
       "      <td>159713740</td>\n",
       "      <td>The Cravings Place Chocolate Chunk Cookie Mix,...</td>\n",
       "      <td>5</td>\n",
       "      <td>0</td>\n",
       "      <td>0</td>\n",
       "      <td>N</td>\n",
       "      <td>Y</td>\n",
       "      <td>Using these for years - love them.</td>\n",
       "      <td>As a family allergic to wheat, dairy, eggs, nu...</td>\n",
       "      <td>2015-08-31</td>\n",
       "    </tr>\n",
       "    <tr>\n",
       "      <th>1</th>\n",
       "      <td>12049833</td>\n",
       "      <td>R1OF8GP57AQ1A0</td>\n",
       "      <td>B00509LVIQ</td>\n",
       "      <td>138680402</td>\n",
       "      <td>Mauna Loa Macadamias, 11 Ounce Packages</td>\n",
       "      <td>5</td>\n",
       "      <td>0</td>\n",
       "      <td>0</td>\n",
       "      <td>N</td>\n",
       "      <td>Y</td>\n",
       "      <td>Wonderful</td>\n",
       "      <td>My favorite nut.  Creamy, crunchy, salty, and ...</td>\n",
       "      <td>2015-08-31</td>\n",
       "    </tr>\n",
       "    <tr>\n",
       "      <th>2</th>\n",
       "      <td>107642</td>\n",
       "      <td>R3VDC1QB6MC4ZZ</td>\n",
       "      <td>B00KHXESLC</td>\n",
       "      <td>252021703</td>\n",
       "      <td>Organic Matcha Green Tea Powder - 100% Pure Ma...</td>\n",
       "      <td>5</td>\n",
       "      <td>0</td>\n",
       "      <td>0</td>\n",
       "      <td>N</td>\n",
       "      <td>N</td>\n",
       "      <td>Five Stars</td>\n",
       "      <td>This green tea tastes so good! My girlfriend l...</td>\n",
       "      <td>2015-08-31</td>\n",
       "    </tr>\n",
       "    <tr>\n",
       "      <th>3</th>\n",
       "      <td>6042304</td>\n",
       "      <td>R12FA3DCF8F9ER</td>\n",
       "      <td>B000F8JIIC</td>\n",
       "      <td>752728342</td>\n",
       "      <td>15oz Raspberry Lyons Designer Dessert Syrup Sauce</td>\n",
       "      <td>5</td>\n",
       "      <td>0</td>\n",
       "      <td>0</td>\n",
       "      <td>N</td>\n",
       "      <td>Y</td>\n",
       "      <td>Five Stars</td>\n",
       "      <td>I love Melissa's brand but this is a great sec...</td>\n",
       "      <td>2015-08-31</td>\n",
       "    </tr>\n",
       "    <tr>\n",
       "      <th>4</th>\n",
       "      <td>18123821</td>\n",
       "      <td>RTWHVNV6X4CNJ</td>\n",
       "      <td>B004ZWR9RQ</td>\n",
       "      <td>552138758</td>\n",
       "      <td>Stride Spark Kinetic Fruit Sugar Free Gum, 14-...</td>\n",
       "      <td>5</td>\n",
       "      <td>0</td>\n",
       "      <td>0</td>\n",
       "      <td>N</td>\n",
       "      <td>Y</td>\n",
       "      <td>Five Stars</td>\n",
       "      <td>good</td>\n",
       "      <td>2015-08-31</td>\n",
       "    </tr>\n",
       "  </tbody>\n",
       "</table>\n",
       "</div>"
      ],
      "text/plain": [
       "   customer_id       review_id  product_id  product_parent  \\\n",
       "0     42521656  R26MV8D0KG6QI6  B000SAQCWC       159713740   \n",
       "1     12049833  R1OF8GP57AQ1A0  B00509LVIQ       138680402   \n",
       "2       107642  R3VDC1QB6MC4ZZ  B00KHXESLC       252021703   \n",
       "3      6042304  R12FA3DCF8F9ER  B000F8JIIC       752728342   \n",
       "4     18123821   RTWHVNV6X4CNJ  B004ZWR9RQ       552138758   \n",
       "\n",
       "                                       product_title  star_rating  \\\n",
       "0  The Cravings Place Chocolate Chunk Cookie Mix,...            5   \n",
       "1            Mauna Loa Macadamias, 11 Ounce Packages            5   \n",
       "2  Organic Matcha Green Tea Powder - 100% Pure Ma...            5   \n",
       "3  15oz Raspberry Lyons Designer Dessert Syrup Sauce            5   \n",
       "4  Stride Spark Kinetic Fruit Sugar Free Gum, 14-...            5   \n",
       "\n",
       "   helpful_votes  total_votes vine verified_purchase  \\\n",
       "0              0            0    N                 Y   \n",
       "1              0            0    N                 Y   \n",
       "2              0            0    N                 N   \n",
       "3              0            0    N                 Y   \n",
       "4              0            0    N                 Y   \n",
       "\n",
       "                      review_headline  \\\n",
       "0  Using these for years - love them.   \n",
       "1                           Wonderful   \n",
       "2                          Five Stars   \n",
       "3                          Five Stars   \n",
       "4                          Five Stars   \n",
       "\n",
       "                                         review_body review_date  \n",
       "0  As a family allergic to wheat, dairy, eggs, nu...  2015-08-31  \n",
       "1  My favorite nut.  Creamy, crunchy, salty, and ...  2015-08-31  \n",
       "2  This green tea tastes so good! My girlfriend l...  2015-08-31  \n",
       "3  I love Melissa's brand but this is a great sec...  2015-08-31  \n",
       "4                                               good  2015-08-31  "
      ]
     },
     "execution_count": 6,
     "metadata": {},
     "output_type": "execute_result"
    }
   ],
   "source": [
    "df.head()"
   ]
  },
  {
   "cell_type": "code",
   "execution_count": 24,
   "metadata": {},
   "outputs": [
    {
     "data": {
      "application/vnd.plotly.v1+json": {
       "config": {
        "plotlyServerURL": "https://plotly.com"
       },
       "data": [
        {
         "alignmentgroup": "True",
         "hovertemplate": "variable=star_rating<br>index=%{x}<br>value=%{y}<extra></extra>",
         "legendgroup": "star_rating",
         "marker": {
          "color": "#3f9c35",
          "line": {
           "color": "black",
           "width": 1
          },
          "pattern": {
           "shape": ""
          }
         },
         "name": "star_rating",
         "offsetgroup": "star_rating",
         "orientation": "v",
         "showlegend": true,
         "textposition": "auto",
         "type": "bar",
         "x": [
          5,
          4,
          1,
          3,
          2
         ],
         "xaxis": "x",
         "y": [
          1662261,
          293389,
          180048,
          161495,
          105265
         ],
         "yaxis": "y"
        }
       ],
       "layout": {
        "barmode": "relative",
        "font": {
         "color": "navy",
         "family": "Rockwell",
         "size": 16
        },
        "hoverlabel": {
         "bgcolor": "ivory",
         "font": {
          "family": "Rockwell",
          "size": 16
         }
        },
        "legend": {
         "title": {
          "text": "variable"
         },
         "tracegroupgap": 0
        },
        "paper_bgcolor": "rgba(0,0,0,0)",
        "plot_bgcolor": "rgba(0,0,0,0)",
        "template": {
         "data": {
          "bar": [
           {
            "error_x": {
             "color": "#2a3f5f"
            },
            "error_y": {
             "color": "#2a3f5f"
            },
            "marker": {
             "line": {
              "color": "#E5ECF6",
              "width": 0.5
             },
             "pattern": {
              "fillmode": "overlay",
              "size": 10,
              "solidity": 0.2
             }
            },
            "type": "bar"
           }
          ],
          "barpolar": [
           {
            "marker": {
             "line": {
              "color": "#E5ECF6",
              "width": 0.5
             },
             "pattern": {
              "fillmode": "overlay",
              "size": 10,
              "solidity": 0.2
             }
            },
            "type": "barpolar"
           }
          ],
          "carpet": [
           {
            "aaxis": {
             "endlinecolor": "#2a3f5f",
             "gridcolor": "white",
             "linecolor": "white",
             "minorgridcolor": "white",
             "startlinecolor": "#2a3f5f"
            },
            "baxis": {
             "endlinecolor": "#2a3f5f",
             "gridcolor": "white",
             "linecolor": "white",
             "minorgridcolor": "white",
             "startlinecolor": "#2a3f5f"
            },
            "type": "carpet"
           }
          ],
          "choropleth": [
           {
            "colorbar": {
             "outlinewidth": 0,
             "ticks": ""
            },
            "type": "choropleth"
           }
          ],
          "contour": [
           {
            "colorbar": {
             "outlinewidth": 0,
             "ticks": ""
            },
            "colorscale": [
             [
              0,
              "#0d0887"
             ],
             [
              0.1111111111111111,
              "#46039f"
             ],
             [
              0.2222222222222222,
              "#7201a8"
             ],
             [
              0.3333333333333333,
              "#9c179e"
             ],
             [
              0.4444444444444444,
              "#bd3786"
             ],
             [
              0.5555555555555556,
              "#d8576b"
             ],
             [
              0.6666666666666666,
              "#ed7953"
             ],
             [
              0.7777777777777778,
              "#fb9f3a"
             ],
             [
              0.8888888888888888,
              "#fdca26"
             ],
             [
              1,
              "#f0f921"
             ]
            ],
            "type": "contour"
           }
          ],
          "contourcarpet": [
           {
            "colorbar": {
             "outlinewidth": 0,
             "ticks": ""
            },
            "type": "contourcarpet"
           }
          ],
          "heatmap": [
           {
            "colorbar": {
             "outlinewidth": 0,
             "ticks": ""
            },
            "colorscale": [
             [
              0,
              "#0d0887"
             ],
             [
              0.1111111111111111,
              "#46039f"
             ],
             [
              0.2222222222222222,
              "#7201a8"
             ],
             [
              0.3333333333333333,
              "#9c179e"
             ],
             [
              0.4444444444444444,
              "#bd3786"
             ],
             [
              0.5555555555555556,
              "#d8576b"
             ],
             [
              0.6666666666666666,
              "#ed7953"
             ],
             [
              0.7777777777777778,
              "#fb9f3a"
             ],
             [
              0.8888888888888888,
              "#fdca26"
             ],
             [
              1,
              "#f0f921"
             ]
            ],
            "type": "heatmap"
           }
          ],
          "heatmapgl": [
           {
            "colorbar": {
             "outlinewidth": 0,
             "ticks": ""
            },
            "colorscale": [
             [
              0,
              "#0d0887"
             ],
             [
              0.1111111111111111,
              "#46039f"
             ],
             [
              0.2222222222222222,
              "#7201a8"
             ],
             [
              0.3333333333333333,
              "#9c179e"
             ],
             [
              0.4444444444444444,
              "#bd3786"
             ],
             [
              0.5555555555555556,
              "#d8576b"
             ],
             [
              0.6666666666666666,
              "#ed7953"
             ],
             [
              0.7777777777777778,
              "#fb9f3a"
             ],
             [
              0.8888888888888888,
              "#fdca26"
             ],
             [
              1,
              "#f0f921"
             ]
            ],
            "type": "heatmapgl"
           }
          ],
          "histogram": [
           {
            "marker": {
             "pattern": {
              "fillmode": "overlay",
              "size": 10,
              "solidity": 0.2
             }
            },
            "type": "histogram"
           }
          ],
          "histogram2d": [
           {
            "colorbar": {
             "outlinewidth": 0,
             "ticks": ""
            },
            "colorscale": [
             [
              0,
              "#0d0887"
             ],
             [
              0.1111111111111111,
              "#46039f"
             ],
             [
              0.2222222222222222,
              "#7201a8"
             ],
             [
              0.3333333333333333,
              "#9c179e"
             ],
             [
              0.4444444444444444,
              "#bd3786"
             ],
             [
              0.5555555555555556,
              "#d8576b"
             ],
             [
              0.6666666666666666,
              "#ed7953"
             ],
             [
              0.7777777777777778,
              "#fb9f3a"
             ],
             [
              0.8888888888888888,
              "#fdca26"
             ],
             [
              1,
              "#f0f921"
             ]
            ],
            "type": "histogram2d"
           }
          ],
          "histogram2dcontour": [
           {
            "colorbar": {
             "outlinewidth": 0,
             "ticks": ""
            },
            "colorscale": [
             [
              0,
              "#0d0887"
             ],
             [
              0.1111111111111111,
              "#46039f"
             ],
             [
              0.2222222222222222,
              "#7201a8"
             ],
             [
              0.3333333333333333,
              "#9c179e"
             ],
             [
              0.4444444444444444,
              "#bd3786"
             ],
             [
              0.5555555555555556,
              "#d8576b"
             ],
             [
              0.6666666666666666,
              "#ed7953"
             ],
             [
              0.7777777777777778,
              "#fb9f3a"
             ],
             [
              0.8888888888888888,
              "#fdca26"
             ],
             [
              1,
              "#f0f921"
             ]
            ],
            "type": "histogram2dcontour"
           }
          ],
          "mesh3d": [
           {
            "colorbar": {
             "outlinewidth": 0,
             "ticks": ""
            },
            "type": "mesh3d"
           }
          ],
          "parcoords": [
           {
            "line": {
             "colorbar": {
              "outlinewidth": 0,
              "ticks": ""
             }
            },
            "type": "parcoords"
           }
          ],
          "pie": [
           {
            "automargin": true,
            "type": "pie"
           }
          ],
          "scatter": [
           {
            "fillpattern": {
             "fillmode": "overlay",
             "size": 10,
             "solidity": 0.2
            },
            "type": "scatter"
           }
          ],
          "scatter3d": [
           {
            "line": {
             "colorbar": {
              "outlinewidth": 0,
              "ticks": ""
             }
            },
            "marker": {
             "colorbar": {
              "outlinewidth": 0,
              "ticks": ""
             }
            },
            "type": "scatter3d"
           }
          ],
          "scattercarpet": [
           {
            "marker": {
             "colorbar": {
              "outlinewidth": 0,
              "ticks": ""
             }
            },
            "type": "scattercarpet"
           }
          ],
          "scattergeo": [
           {
            "marker": {
             "colorbar": {
              "outlinewidth": 0,
              "ticks": ""
             }
            },
            "type": "scattergeo"
           }
          ],
          "scattergl": [
           {
            "marker": {
             "colorbar": {
              "outlinewidth": 0,
              "ticks": ""
             }
            },
            "type": "scattergl"
           }
          ],
          "scattermapbox": [
           {
            "marker": {
             "colorbar": {
              "outlinewidth": 0,
              "ticks": ""
             }
            },
            "type": "scattermapbox"
           }
          ],
          "scatterpolar": [
           {
            "marker": {
             "colorbar": {
              "outlinewidth": 0,
              "ticks": ""
             }
            },
            "type": "scatterpolar"
           }
          ],
          "scatterpolargl": [
           {
            "marker": {
             "colorbar": {
              "outlinewidth": 0,
              "ticks": ""
             }
            },
            "type": "scatterpolargl"
           }
          ],
          "scatterternary": [
           {
            "marker": {
             "colorbar": {
              "outlinewidth": 0,
              "ticks": ""
             }
            },
            "type": "scatterternary"
           }
          ],
          "surface": [
           {
            "colorbar": {
             "outlinewidth": 0,
             "ticks": ""
            },
            "colorscale": [
             [
              0,
              "#0d0887"
             ],
             [
              0.1111111111111111,
              "#46039f"
             ],
             [
              0.2222222222222222,
              "#7201a8"
             ],
             [
              0.3333333333333333,
              "#9c179e"
             ],
             [
              0.4444444444444444,
              "#bd3786"
             ],
             [
              0.5555555555555556,
              "#d8576b"
             ],
             [
              0.6666666666666666,
              "#ed7953"
             ],
             [
              0.7777777777777778,
              "#fb9f3a"
             ],
             [
              0.8888888888888888,
              "#fdca26"
             ],
             [
              1,
              "#f0f921"
             ]
            ],
            "type": "surface"
           }
          ],
          "table": [
           {
            "cells": {
             "fill": {
              "color": "#EBF0F8"
             },
             "line": {
              "color": "white"
             }
            },
            "header": {
             "fill": {
              "color": "#C8D4E3"
             },
             "line": {
              "color": "white"
             }
            },
            "type": "table"
           }
          ]
         },
         "layout": {
          "annotationdefaults": {
           "arrowcolor": "#2a3f5f",
           "arrowhead": 0,
           "arrowwidth": 1
          },
          "autotypenumbers": "strict",
          "coloraxis": {
           "colorbar": {
            "outlinewidth": 0,
            "ticks": ""
           }
          },
          "colorscale": {
           "diverging": [
            [
             0,
             "#8e0152"
            ],
            [
             0.1,
             "#c51b7d"
            ],
            [
             0.2,
             "#de77ae"
            ],
            [
             0.3,
             "#f1b6da"
            ],
            [
             0.4,
             "#fde0ef"
            ],
            [
             0.5,
             "#f7f7f7"
            ],
            [
             0.6,
             "#e6f5d0"
            ],
            [
             0.7,
             "#b8e186"
            ],
            [
             0.8,
             "#7fbc41"
            ],
            [
             0.9,
             "#4d9221"
            ],
            [
             1,
             "#276419"
            ]
           ],
           "sequential": [
            [
             0,
             "#0d0887"
            ],
            [
             0.1111111111111111,
             "#46039f"
            ],
            [
             0.2222222222222222,
             "#7201a8"
            ],
            [
             0.3333333333333333,
             "#9c179e"
            ],
            [
             0.4444444444444444,
             "#bd3786"
            ],
            [
             0.5555555555555556,
             "#d8576b"
            ],
            [
             0.6666666666666666,
             "#ed7953"
            ],
            [
             0.7777777777777778,
             "#fb9f3a"
            ],
            [
             0.8888888888888888,
             "#fdca26"
            ],
            [
             1,
             "#f0f921"
            ]
           ],
           "sequentialminus": [
            [
             0,
             "#0d0887"
            ],
            [
             0.1111111111111111,
             "#46039f"
            ],
            [
             0.2222222222222222,
             "#7201a8"
            ],
            [
             0.3333333333333333,
             "#9c179e"
            ],
            [
             0.4444444444444444,
             "#bd3786"
            ],
            [
             0.5555555555555556,
             "#d8576b"
            ],
            [
             0.6666666666666666,
             "#ed7953"
            ],
            [
             0.7777777777777778,
             "#fb9f3a"
            ],
            [
             0.8888888888888888,
             "#fdca26"
            ],
            [
             1,
             "#f0f921"
            ]
           ]
          },
          "colorway": [
           "#636efa",
           "#EF553B",
           "#00cc96",
           "#ab63fa",
           "#FFA15A",
           "#19d3f3",
           "#FF6692",
           "#B6E880",
           "#FF97FF",
           "#FECB52"
          ],
          "font": {
           "color": "#2a3f5f"
          },
          "geo": {
           "bgcolor": "white",
           "lakecolor": "white",
           "landcolor": "#E5ECF6",
           "showlakes": true,
           "showland": true,
           "subunitcolor": "white"
          },
          "hoverlabel": {
           "align": "left"
          },
          "hovermode": "closest",
          "mapbox": {
           "style": "light"
          },
          "paper_bgcolor": "white",
          "plot_bgcolor": "#E5ECF6",
          "polar": {
           "angularaxis": {
            "gridcolor": "white",
            "linecolor": "white",
            "ticks": ""
           },
           "bgcolor": "#E5ECF6",
           "radialaxis": {
            "gridcolor": "white",
            "linecolor": "white",
            "ticks": ""
           }
          },
          "scene": {
           "xaxis": {
            "backgroundcolor": "#E5ECF6",
            "gridcolor": "white",
            "gridwidth": 2,
            "linecolor": "white",
            "showbackground": true,
            "ticks": "",
            "zerolinecolor": "white"
           },
           "yaxis": {
            "backgroundcolor": "#E5ECF6",
            "gridcolor": "white",
            "gridwidth": 2,
            "linecolor": "white",
            "showbackground": true,
            "ticks": "",
            "zerolinecolor": "white"
           },
           "zaxis": {
            "backgroundcolor": "#E5ECF6",
            "gridcolor": "white",
            "gridwidth": 2,
            "linecolor": "white",
            "showbackground": true,
            "ticks": "",
            "zerolinecolor": "white"
           }
          },
          "shapedefaults": {
           "line": {
            "color": "#2a3f5f"
           }
          },
          "ternary": {
           "aaxis": {
            "gridcolor": "white",
            "linecolor": "white",
            "ticks": ""
           },
           "baxis": {
            "gridcolor": "white",
            "linecolor": "white",
            "ticks": ""
           },
           "bgcolor": "#E5ECF6",
           "caxis": {
            "gridcolor": "white",
            "linecolor": "white",
            "ticks": ""
           }
          },
          "title": {
           "x": 0.05
          },
          "xaxis": {
           "automargin": true,
           "gridcolor": "white",
           "linecolor": "white",
           "ticks": "",
           "title": {
            "standoff": 15
           },
           "zerolinecolor": "white",
           "zerolinewidth": 2
          },
          "yaxis": {
           "automargin": true,
           "gridcolor": "white",
           "linecolor": "white",
           "ticks": "",
           "title": {
            "standoff": 15
           },
           "zerolinecolor": "white",
           "zerolinewidth": 2
          }
         }
        },
        "title": {
         "text": "Star Ratings Distribution",
         "x": 0.5
        },
        "xaxis": {
         "anchor": "y",
         "domain": [
          0,
          1
         ],
         "gridcolor": "lightgray",
         "gridwidth": 1,
         "showgrid": true,
         "title": {
          "text": "Star Rating (1 to 5)"
         }
        },
        "yaxis": {
         "anchor": "x",
         "domain": [
          0,
          1
         ],
         "gridcolor": "lightgray",
         "gridwidth": 1,
         "showgrid": true,
         "title": {
          "text": "Number of Ratings"
         }
        }
       }
      }
     },
     "metadata": {},
     "output_type": "display_data"
    }
   ],
   "source": [
    "fig = px.bar(df.star_rating.value_counts().to_frame(), \n",
    "title='Star Ratings Distribution')\n",
    "\n",
    "fig.update_traces(\n",
    "    marker_line_width=1, \n",
    "    marker_line_color='black',\n",
    "    marker=dict(color='#3f9c35'),\n",
    ")\n",
    "\n",
    "fig.update_xaxes(title='Star Rating (1 to 5)',\n",
    "                 gridcolor='lightgray',\n",
    "                 showgrid=True, \n",
    "                 gridwidth=1)\n",
    "\n",
    "fig.update_yaxes(title='Number of Ratings',\n",
    "                 gridcolor='lightgray',\n",
    "                 showgrid=True, \n",
    "                 gridwidth=1)\n",
    "\n",
    "fig.update_layout(paper_bgcolor='rgba(0,0,0,0)',\n",
    "                  plot_bgcolor='rgba(0,0,0,0)',\n",
    "                  hoverlabel=dict(\n",
    "                      bgcolor='ivory',\n",
    "                      font_size=16,\n",
    "                      font_family='Rockwell'),\n",
    "                  font=dict(family='Rockwell', \n",
    "                            color='navy',\n",
    "                            size=16), \n",
    "                  title_x=0.5)\n",
    "fig.show()"
   ]
  },
  {
   "cell_type": "code",
   "execution_count": 66,
   "metadata": {},
   "outputs": [
    {
     "data": {
      "application/vnd.plotly.v1+json": {
       "config": {
        "plotlyServerURL": "https://plotly.com"
       },
       "data": [
        {
         "domain": {
          "x": [
           0,
           1
          ],
          "y": [
           0,
           1
          ]
         },
         "hole": 0.5,
         "hovertemplate": "Star Rating:  %{label}<br>Count:  %{value:,.2%}",
         "labels": [
          5,
          4,
          1,
          3,
          2
         ],
         "legendgroup": "",
         "marker": {
          "line": {
           "color": "rgb(0,0,0)",
           "width": 2
          }
         },
         "name": "",
         "showlegend": true,
         "textfont": {
          "size": 16
         },
         "textinfo": "label+percent",
         "type": "pie",
         "values": [
          0.6919001289512657,
          0.12212034507991398,
          0.0749432456259381,
          0.06722073809406866,
          0.043815542248813504
         ]
        }
       ],
       "layout": {
        "font": {
         "color": "navy",
         "family": "Rockwell",
         "size": 12
        },
        "height": 500,
        "hoverlabel": {
         "font": {
          "family": "Rockwell",
          "size": 16
         }
        },
        "legend": {
         "tracegroupgap": 0
        },
        "piecolorway": [
         "#AF0038",
         "#0D2A63",
         "#6C4516",
         "#DA60CA",
         "#1616A7",
         "#620042",
         "#A777F1",
         "#862A16",
         "#778AAE",
         "#6C7C32",
         "#B2828D",
         "#FC0080",
         "#FB00D1",
         "#00A08B",
         "#511CFB",
         "#EB663B",
         "#750D86",
         "#B68100",
         "#222A2A",
         "#DA16FF",
         "#FB0D0D",
         "#1CA71C",
         "#E15F99",
         "#2E91E5"
        ],
        "showlegend": false,
        "template": {
         "data": {
          "bar": [
           {
            "error_x": {
             "color": "#2a3f5f"
            },
            "error_y": {
             "color": "#2a3f5f"
            },
            "marker": {
             "line": {
              "color": "#E5ECF6",
              "width": 0.5
             },
             "pattern": {
              "fillmode": "overlay",
              "size": 10,
              "solidity": 0.2
             }
            },
            "type": "bar"
           }
          ],
          "barpolar": [
           {
            "marker": {
             "line": {
              "color": "#E5ECF6",
              "width": 0.5
             },
             "pattern": {
              "fillmode": "overlay",
              "size": 10,
              "solidity": 0.2
             }
            },
            "type": "barpolar"
           }
          ],
          "carpet": [
           {
            "aaxis": {
             "endlinecolor": "#2a3f5f",
             "gridcolor": "white",
             "linecolor": "white",
             "minorgridcolor": "white",
             "startlinecolor": "#2a3f5f"
            },
            "baxis": {
             "endlinecolor": "#2a3f5f",
             "gridcolor": "white",
             "linecolor": "white",
             "minorgridcolor": "white",
             "startlinecolor": "#2a3f5f"
            },
            "type": "carpet"
           }
          ],
          "choropleth": [
           {
            "colorbar": {
             "outlinewidth": 0,
             "ticks": ""
            },
            "type": "choropleth"
           }
          ],
          "contour": [
           {
            "colorbar": {
             "outlinewidth": 0,
             "ticks": ""
            },
            "colorscale": [
             [
              0,
              "#0d0887"
             ],
             [
              0.1111111111111111,
              "#46039f"
             ],
             [
              0.2222222222222222,
              "#7201a8"
             ],
             [
              0.3333333333333333,
              "#9c179e"
             ],
             [
              0.4444444444444444,
              "#bd3786"
             ],
             [
              0.5555555555555556,
              "#d8576b"
             ],
             [
              0.6666666666666666,
              "#ed7953"
             ],
             [
              0.7777777777777778,
              "#fb9f3a"
             ],
             [
              0.8888888888888888,
              "#fdca26"
             ],
             [
              1,
              "#f0f921"
             ]
            ],
            "type": "contour"
           }
          ],
          "contourcarpet": [
           {
            "colorbar": {
             "outlinewidth": 0,
             "ticks": ""
            },
            "type": "contourcarpet"
           }
          ],
          "heatmap": [
           {
            "colorbar": {
             "outlinewidth": 0,
             "ticks": ""
            },
            "colorscale": [
             [
              0,
              "#0d0887"
             ],
             [
              0.1111111111111111,
              "#46039f"
             ],
             [
              0.2222222222222222,
              "#7201a8"
             ],
             [
              0.3333333333333333,
              "#9c179e"
             ],
             [
              0.4444444444444444,
              "#bd3786"
             ],
             [
              0.5555555555555556,
              "#d8576b"
             ],
             [
              0.6666666666666666,
              "#ed7953"
             ],
             [
              0.7777777777777778,
              "#fb9f3a"
             ],
             [
              0.8888888888888888,
              "#fdca26"
             ],
             [
              1,
              "#f0f921"
             ]
            ],
            "type": "heatmap"
           }
          ],
          "heatmapgl": [
           {
            "colorbar": {
             "outlinewidth": 0,
             "ticks": ""
            },
            "colorscale": [
             [
              0,
              "#0d0887"
             ],
             [
              0.1111111111111111,
              "#46039f"
             ],
             [
              0.2222222222222222,
              "#7201a8"
             ],
             [
              0.3333333333333333,
              "#9c179e"
             ],
             [
              0.4444444444444444,
              "#bd3786"
             ],
             [
              0.5555555555555556,
              "#d8576b"
             ],
             [
              0.6666666666666666,
              "#ed7953"
             ],
             [
              0.7777777777777778,
              "#fb9f3a"
             ],
             [
              0.8888888888888888,
              "#fdca26"
             ],
             [
              1,
              "#f0f921"
             ]
            ],
            "type": "heatmapgl"
           }
          ],
          "histogram": [
           {
            "marker": {
             "pattern": {
              "fillmode": "overlay",
              "size": 10,
              "solidity": 0.2
             }
            },
            "type": "histogram"
           }
          ],
          "histogram2d": [
           {
            "colorbar": {
             "outlinewidth": 0,
             "ticks": ""
            },
            "colorscale": [
             [
              0,
              "#0d0887"
             ],
             [
              0.1111111111111111,
              "#46039f"
             ],
             [
              0.2222222222222222,
              "#7201a8"
             ],
             [
              0.3333333333333333,
              "#9c179e"
             ],
             [
              0.4444444444444444,
              "#bd3786"
             ],
             [
              0.5555555555555556,
              "#d8576b"
             ],
             [
              0.6666666666666666,
              "#ed7953"
             ],
             [
              0.7777777777777778,
              "#fb9f3a"
             ],
             [
              0.8888888888888888,
              "#fdca26"
             ],
             [
              1,
              "#f0f921"
             ]
            ],
            "type": "histogram2d"
           }
          ],
          "histogram2dcontour": [
           {
            "colorbar": {
             "outlinewidth": 0,
             "ticks": ""
            },
            "colorscale": [
             [
              0,
              "#0d0887"
             ],
             [
              0.1111111111111111,
              "#46039f"
             ],
             [
              0.2222222222222222,
              "#7201a8"
             ],
             [
              0.3333333333333333,
              "#9c179e"
             ],
             [
              0.4444444444444444,
              "#bd3786"
             ],
             [
              0.5555555555555556,
              "#d8576b"
             ],
             [
              0.6666666666666666,
              "#ed7953"
             ],
             [
              0.7777777777777778,
              "#fb9f3a"
             ],
             [
              0.8888888888888888,
              "#fdca26"
             ],
             [
              1,
              "#f0f921"
             ]
            ],
            "type": "histogram2dcontour"
           }
          ],
          "mesh3d": [
           {
            "colorbar": {
             "outlinewidth": 0,
             "ticks": ""
            },
            "type": "mesh3d"
           }
          ],
          "parcoords": [
           {
            "line": {
             "colorbar": {
              "outlinewidth": 0,
              "ticks": ""
             }
            },
            "type": "parcoords"
           }
          ],
          "pie": [
           {
            "automargin": true,
            "type": "pie"
           }
          ],
          "scatter": [
           {
            "fillpattern": {
             "fillmode": "overlay",
             "size": 10,
             "solidity": 0.2
            },
            "type": "scatter"
           }
          ],
          "scatter3d": [
           {
            "line": {
             "colorbar": {
              "outlinewidth": 0,
              "ticks": ""
             }
            },
            "marker": {
             "colorbar": {
              "outlinewidth": 0,
              "ticks": ""
             }
            },
            "type": "scatter3d"
           }
          ],
          "scattercarpet": [
           {
            "marker": {
             "colorbar": {
              "outlinewidth": 0,
              "ticks": ""
             }
            },
            "type": "scattercarpet"
           }
          ],
          "scattergeo": [
           {
            "marker": {
             "colorbar": {
              "outlinewidth": 0,
              "ticks": ""
             }
            },
            "type": "scattergeo"
           }
          ],
          "scattergl": [
           {
            "marker": {
             "colorbar": {
              "outlinewidth": 0,
              "ticks": ""
             }
            },
            "type": "scattergl"
           }
          ],
          "scattermapbox": [
           {
            "marker": {
             "colorbar": {
              "outlinewidth": 0,
              "ticks": ""
             }
            },
            "type": "scattermapbox"
           }
          ],
          "scatterpolar": [
           {
            "marker": {
             "colorbar": {
              "outlinewidth": 0,
              "ticks": ""
             }
            },
            "type": "scatterpolar"
           }
          ],
          "scatterpolargl": [
           {
            "marker": {
             "colorbar": {
              "outlinewidth": 0,
              "ticks": ""
             }
            },
            "type": "scatterpolargl"
           }
          ],
          "scatterternary": [
           {
            "marker": {
             "colorbar": {
              "outlinewidth": 0,
              "ticks": ""
             }
            },
            "type": "scatterternary"
           }
          ],
          "surface": [
           {
            "colorbar": {
             "outlinewidth": 0,
             "ticks": ""
            },
            "colorscale": [
             [
              0,
              "#0d0887"
             ],
             [
              0.1111111111111111,
              "#46039f"
             ],
             [
              0.2222222222222222,
              "#7201a8"
             ],
             [
              0.3333333333333333,
              "#9c179e"
             ],
             [
              0.4444444444444444,
              "#bd3786"
             ],
             [
              0.5555555555555556,
              "#d8576b"
             ],
             [
              0.6666666666666666,
              "#ed7953"
             ],
             [
              0.7777777777777778,
              "#fb9f3a"
             ],
             [
              0.8888888888888888,
              "#fdca26"
             ],
             [
              1,
              "#f0f921"
             ]
            ],
            "type": "surface"
           }
          ],
          "table": [
           {
            "cells": {
             "fill": {
              "color": "#EBF0F8"
             },
             "line": {
              "color": "white"
             }
            },
            "header": {
             "fill": {
              "color": "#C8D4E3"
             },
             "line": {
              "color": "white"
             }
            },
            "type": "table"
           }
          ]
         },
         "layout": {
          "annotationdefaults": {
           "arrowcolor": "#2a3f5f",
           "arrowhead": 0,
           "arrowwidth": 1
          },
          "autotypenumbers": "strict",
          "coloraxis": {
           "colorbar": {
            "outlinewidth": 0,
            "ticks": ""
           }
          },
          "colorscale": {
           "diverging": [
            [
             0,
             "#8e0152"
            ],
            [
             0.1,
             "#c51b7d"
            ],
            [
             0.2,
             "#de77ae"
            ],
            [
             0.3,
             "#f1b6da"
            ],
            [
             0.4,
             "#fde0ef"
            ],
            [
             0.5,
             "#f7f7f7"
            ],
            [
             0.6,
             "#e6f5d0"
            ],
            [
             0.7,
             "#b8e186"
            ],
            [
             0.8,
             "#7fbc41"
            ],
            [
             0.9,
             "#4d9221"
            ],
            [
             1,
             "#276419"
            ]
           ],
           "sequential": [
            [
             0,
             "#0d0887"
            ],
            [
             0.1111111111111111,
             "#46039f"
            ],
            [
             0.2222222222222222,
             "#7201a8"
            ],
            [
             0.3333333333333333,
             "#9c179e"
            ],
            [
             0.4444444444444444,
             "#bd3786"
            ],
            [
             0.5555555555555556,
             "#d8576b"
            ],
            [
             0.6666666666666666,
             "#ed7953"
            ],
            [
             0.7777777777777778,
             "#fb9f3a"
            ],
            [
             0.8888888888888888,
             "#fdca26"
            ],
            [
             1,
             "#f0f921"
            ]
           ],
           "sequentialminus": [
            [
             0,
             "#0d0887"
            ],
            [
             0.1111111111111111,
             "#46039f"
            ],
            [
             0.2222222222222222,
             "#7201a8"
            ],
            [
             0.3333333333333333,
             "#9c179e"
            ],
            [
             0.4444444444444444,
             "#bd3786"
            ],
            [
             0.5555555555555556,
             "#d8576b"
            ],
            [
             0.6666666666666666,
             "#ed7953"
            ],
            [
             0.7777777777777778,
             "#fb9f3a"
            ],
            [
             0.8888888888888888,
             "#fdca26"
            ],
            [
             1,
             "#f0f921"
            ]
           ]
          },
          "colorway": [
           "#636efa",
           "#EF553B",
           "#00cc96",
           "#ab63fa",
           "#FFA15A",
           "#19d3f3",
           "#FF6692",
           "#B6E880",
           "#FF97FF",
           "#FECB52"
          ],
          "font": {
           "color": "#2a3f5f"
          },
          "geo": {
           "bgcolor": "white",
           "lakecolor": "white",
           "landcolor": "#E5ECF6",
           "showlakes": true,
           "showland": true,
           "subunitcolor": "white"
          },
          "hoverlabel": {
           "align": "left"
          },
          "hovermode": "closest",
          "mapbox": {
           "style": "light"
          },
          "paper_bgcolor": "white",
          "plot_bgcolor": "#E5ECF6",
          "polar": {
           "angularaxis": {
            "gridcolor": "white",
            "linecolor": "white",
            "ticks": ""
           },
           "bgcolor": "#E5ECF6",
           "radialaxis": {
            "gridcolor": "white",
            "linecolor": "white",
            "ticks": ""
           }
          },
          "scene": {
           "xaxis": {
            "backgroundcolor": "#E5ECF6",
            "gridcolor": "white",
            "gridwidth": 2,
            "linecolor": "white",
            "showbackground": true,
            "ticks": "",
            "zerolinecolor": "white"
           },
           "yaxis": {
            "backgroundcolor": "#E5ECF6",
            "gridcolor": "white",
            "gridwidth": 2,
            "linecolor": "white",
            "showbackground": true,
            "ticks": "",
            "zerolinecolor": "white"
           },
           "zaxis": {
            "backgroundcolor": "#E5ECF6",
            "gridcolor": "white",
            "gridwidth": 2,
            "linecolor": "white",
            "showbackground": true,
            "ticks": "",
            "zerolinecolor": "white"
           }
          },
          "shapedefaults": {
           "line": {
            "color": "#2a3f5f"
           }
          },
          "ternary": {
           "aaxis": {
            "gridcolor": "white",
            "linecolor": "white",
            "ticks": ""
           },
           "baxis": {
            "gridcolor": "white",
            "linecolor": "white",
            "ticks": ""
           },
           "bgcolor": "#E5ECF6",
           "caxis": {
            "gridcolor": "white",
            "linecolor": "white",
            "ticks": ""
           }
          },
          "title": {
           "x": 0.05
          },
          "xaxis": {
           "automargin": true,
           "gridcolor": "white",
           "linecolor": "white",
           "ticks": "",
           "title": {
            "standoff": 15
           },
           "zerolinecolor": "white",
           "zerolinewidth": 2
          },
          "yaxis": {
           "automargin": true,
           "gridcolor": "white",
           "linecolor": "white",
           "ticks": "",
           "title": {
            "standoff": 15
           },
           "zerolinecolor": "white",
           "zerolinewidth": 2
          }
         }
        },
        "title": {
         "font": {
          "size": 20
         },
         "text": "Star Ratings Distribution<br><sup>hover over to see labels</sup>",
         "x": 0.5
        },
        "width": 500
       }
      }
     },
     "metadata": {},
     "output_type": "display_data"
    }
   ],
   "source": [
    "_df = df.star_rating.value_counts().to_frame().reset_index().rename(\n",
    "    columns={'index':'star_rating','star_rating':'count'})\n",
    "\n",
    "_df['count'] = _df['count']/_df['count'].sum()\n",
    "\n",
    "fig = px.pie(_df,\n",
    "             values='count',\n",
    "             names='star_rating',\n",
    "             labels='star_rating', \n",
    "             title='Star Ratings Distribution'+\\\n",
    "             '<br><sup>hover over to see labels</sup>',\n",
    "             hole=0.5, color_discrete_sequence=px.colors.qualitative.Dark24_r, \n",
    "             width=500, height=500).update_traces(marker_line_color='rgb(0,0,0)',\n",
    "                                                  textinfo='label+percent',\n",
    "                                                  hovertemplate='<br>'.join([\n",
    "                                                      'Star Rating:  %{label}',\n",
    "                                                      'Count:  %{value:,.2%}'\n",
    "                                                      ]),\n",
    "                                                  textfont_size=16,\n",
    "                                                  marker_line_width=2)\n",
    "fig.update_layout(title_font_size=20,\n",
    "                  showlegend=False,\n",
    "                  hoverlabel=dict(\n",
    "                      font_size=16,\n",
    "                      font_family='Rockwell'),\n",
    "                  font=dict(family='Rockwell', \n",
    "                            color='navy',\n",
    "                            size=12), \n",
    "                  title_x=0.5)\n",
    "fig.show()"
   ]
  },
  {
   "cell_type": "code",
   "execution_count": 16,
   "metadata": {},
   "outputs": [],
   "source": [
    "amazon = df[df.product_title.apply(lambda x: '[Amazon.com Exclusive]' in x)]"
   ]
  },
  {
   "cell_type": "code",
   "execution_count": 17,
   "metadata": {},
   "outputs": [
    {
     "name": "stdout",
     "output_type": "stream",
     "text": [
      "LU Erin Fetherston Designed, Creme Roulee Dark Chocolate European Style Rolled Wafers, 14.1-Ounce Canisters (Pack of 3) [Amazon.com Exclusive]\n",
      "LU Erin Fetherston Designed, Creme Roulee Dark Chocolate European Style Rolled Wafers, 14.1-Ounce Canisters (Pack of 3) [Amazon.com Exclusive]\n",
      "LU Erin Fetherston Designed, Creme Roulee Dark Chocolate European Style Rolled Wafers, 14.1-Ounce Canisters (Pack of 3) [Amazon.com Exclusive]\n",
      "LU Erin Fetherston Designed, Creme Roulee Dark Chocolate European Style Rolled Wafers, 14.1-Ounce Canisters (Pack of 3) [Amazon.com Exclusive]\n",
      "LU Erin Fetherston Designed, Creme Roulee Dark Chocolate European Style Rolled Wafers, 14.1-Ounce Canisters (Pack of 3) [Amazon.com Exclusive]\n",
      "LU Erin Fetherston Designed, Creme Roulee Dark Chocolate European Style Rolled Wafers, 14.1-Ounce Canisters (Pack of 3) [Amazon.com Exclusive]\n",
      "LU Erin Fetherston Designed, Creme Roulee Dark Chocolate European Style Rolled Wafers, 14.1-Ounce Canisters (Pack of 3) [Amazon.com Exclusive]\n",
      "LU Erin Fetherston Designed, Creme Roulee Dark Chocolate European Style Rolled Wafers, 14.1-Ounce Canisters (Pack of 3) [Amazon.com Exclusive]\n",
      "LU Erin Fetherston Designed, Creme Roulee Dark Chocolate European Style Rolled Wafers, 14.1-Ounce Canisters (Pack of 3) [Amazon.com Exclusive]\n",
      "LU Erin Fetherston Designed, Creme Roulee Dark Chocolate European Style Rolled Wafers, 14.1-Ounce Canisters (Pack of 3) [Amazon.com Exclusive]\n",
      "LU Erin Fetherston Designed, Creme Roulee Dark Chocolate European Style Rolled Wafers, 14.1-Ounce Canisters (Pack of 3) [Amazon.com Exclusive]\n",
      "LU Erin Fetherston Designed, Creme Roulee Dark Chocolate European Style Rolled Wafers, 14.1-Ounce Canisters (Pack of 3) [Amazon.com Exclusive]\n",
      "LU Erin Fetherston Designed, Creme Roulee Dark Chocolate European Style Rolled Wafers, 14.1-Ounce Canisters (Pack of 3) [Amazon.com Exclusive]\n",
      "LU Erin Fetherston Designed, Creme Roulee Dark Chocolate European Style Rolled Wafers, 14.1-Ounce Canisters (Pack of 3) [Amazon.com Exclusive]\n",
      "LU Erin Fetherston Designed, Creme Roulee Dark Chocolate European Style Rolled Wafers, 14.1-Ounce Canisters (Pack of 3) [Amazon.com Exclusive]\n",
      "LU Erin Fetherston Designed, Creme Roulee Dark Chocolate European Style Rolled Wafers, 14.1-Ounce Canisters (Pack of 3) [Amazon.com Exclusive]\n",
      "LU Erin Fetherston Designed, Creme Roulee Dark Chocolate European Style Rolled Wafers, 14.1-Ounce Canisters (Pack of 3) [Amazon.com Exclusive]\n",
      "LU Erin Fetherston Designed, Creme Roulee Dark Chocolate European Style Rolled Wafers, 14.1-Ounce Canisters (Pack of 3) [Amazon.com Exclusive]\n",
      "LU Erin Fetherston Designed, Creme Roulee Dark Chocolate European Style Rolled Wafers, 14.1-Ounce Canisters (Pack of 3) [Amazon.com Exclusive]\n",
      "LU Erin Fetherston Designed, Creme Roulee Dark Chocolate European Style Rolled Wafers, 14.1-Ounce Canisters (Pack of 3) [Amazon.com Exclusive]\n",
      "LU Erin Fetherston Designed, Creme Roulee Dark Chocolate European Style Rolled Wafers, 14.1-Ounce Canisters (Pack of 3) [Amazon.com Exclusive]\n",
      "LU Erin Fetherston Designed, Creme Roulee Dark Chocolate European Style Rolled Wafers, 14.1-Ounce Canisters (Pack of 3) [Amazon.com Exclusive]\n",
      "LU Erin Fetherston Designed, Creme Roulee Dark Chocolate European Style Rolled Wafers, 14.1-Ounce Canisters (Pack of 3) [Amazon.com Exclusive]\n",
      "LU Erin Fetherston Designed, Creme Roulee Dark Chocolate European Style Rolled Wafers, 14.1-Ounce Canisters (Pack of 3) [Amazon.com Exclusive]\n",
      "LU Erin Fetherston Designed, Creme Roulee Dark Chocolate European Style Rolled Wafers, 14.1-Ounce Canisters (Pack of 3) [Amazon.com Exclusive]\n",
      "LU Erin Fetherston Designed, Creme Roulee Dark Chocolate European Style Rolled Wafers, 14.1-Ounce Canisters (Pack of 3) [Amazon.com Exclusive]\n",
      "LU Erin Fetherston Designed, Creme Roulee Dark Chocolate European Style Rolled Wafers, 14.1-Ounce Canisters (Pack of 3) [Amazon.com Exclusive]\n",
      "LU Erin Fetherston Designed, Creme Roulee Dark Chocolate European Style Rolled Wafers, 14.1-Ounce Canisters (Pack of 3) [Amazon.com Exclusive]\n",
      "LU Erin Fetherston Designed, Creme Roulee Dark Chocolate European Style Rolled Wafers, 14.1-Ounce Canisters (Pack of 3) [Amazon.com Exclusive]\n",
      "LU Erin Fetherston Designed, Creme Roulee Dark Chocolate European Style Rolled Wafers, 14.1-Ounce Canisters (Pack of 3) [Amazon.com Exclusive]\n"
     ]
    }
   ],
   "source": [
    "for title in amazon.product_title:\n",
    "    print(title)"
   ]
  },
  {
   "cell_type": "code",
   "execution_count": 6,
   "metadata": {},
   "outputs": [],
   "source": [
    "df.review_date = df.review_date.astype('O').apply(dt.fromisoformat)\n",
    "df['review_month'] = df.review_date.apply(lambda x: x.month)\n",
    "df['review_day'] = df.review_date.apply(lambda x: x.day)\n",
    "df['review_year'] = df.review_date.apply(lambda x: x.year)"
   ]
  },
  {
   "cell_type": "code",
   "execution_count": 8,
   "metadata": {},
   "outputs": [
    {
     "data": {
      "text/plain": [
       "'1,399,630,128'"
      ]
     },
     "execution_count": 8,
     "metadata": {},
     "output_type": "execute_result"
    }
   ],
   "source": [
    "f'{df.memory_usage(deep=True).sum():,.0f}'"
   ]
  },
  {
   "cell_type": "code",
   "execution_count": 111,
   "metadata": {},
   "outputs": [
    {
     "data": {
      "application/vnd.plotly.v1+json": {
       "config": {
        "plotlyServerURL": "https://plotly.com"
       },
       "data": [
        {
         "alignmentgroup": "True",
         "hovertemplate": "review_month=%{x}<br>count=%{y}<extra></extra>",
         "legendgroup": "",
         "marker": {
          "color": "#636efa",
          "pattern": {
           "shape": ""
          }
         },
         "name": "",
         "offsetgroup": "",
         "orientation": "v",
         "showlegend": false,
         "textposition": "auto",
         "type": "bar",
         "x": [
          1,
          8,
          3,
          7,
          2,
          12,
          4,
          5,
          6,
          11,
          10,
          9
         ],
         "xaxis": "x",
         "y": [
          238092,
          232543,
          228506,
          226032,
          216290,
          209879,
          203752,
          202148,
          195723,
          157242,
          153258,
          138993
         ],
         "yaxis": "y"
        }
       ],
       "layout": {
        "barmode": "relative",
        "font": {
         "color": "navy",
         "family": "Rockwell",
         "size": 14
        },
        "hoverlabel": {
         "bgcolor": "ivory",
         "font": {
          "family": "Rockwell",
          "size": 16
         }
        },
        "legend": {
         "tracegroupgap": 0
        },
        "paper_bgcolor": "rgba(0,0,0,0)",
        "plot_bgcolor": "rgba(0,0,0,0)",
        "showlegend": false,
        "template": {
         "data": {
          "bar": [
           {
            "error_x": {
             "color": "#2a3f5f"
            },
            "error_y": {
             "color": "#2a3f5f"
            },
            "marker": {
             "line": {
              "color": "#E5ECF6",
              "width": 0.5
             },
             "pattern": {
              "fillmode": "overlay",
              "size": 10,
              "solidity": 0.2
             }
            },
            "type": "bar"
           }
          ],
          "barpolar": [
           {
            "marker": {
             "line": {
              "color": "#E5ECF6",
              "width": 0.5
             },
             "pattern": {
              "fillmode": "overlay",
              "size": 10,
              "solidity": 0.2
             }
            },
            "type": "barpolar"
           }
          ],
          "carpet": [
           {
            "aaxis": {
             "endlinecolor": "#2a3f5f",
             "gridcolor": "white",
             "linecolor": "white",
             "minorgridcolor": "white",
             "startlinecolor": "#2a3f5f"
            },
            "baxis": {
             "endlinecolor": "#2a3f5f",
             "gridcolor": "white",
             "linecolor": "white",
             "minorgridcolor": "white",
             "startlinecolor": "#2a3f5f"
            },
            "type": "carpet"
           }
          ],
          "choropleth": [
           {
            "colorbar": {
             "outlinewidth": 0,
             "ticks": ""
            },
            "type": "choropleth"
           }
          ],
          "contour": [
           {
            "colorbar": {
             "outlinewidth": 0,
             "ticks": ""
            },
            "colorscale": [
             [
              0,
              "#0d0887"
             ],
             [
              0.1111111111111111,
              "#46039f"
             ],
             [
              0.2222222222222222,
              "#7201a8"
             ],
             [
              0.3333333333333333,
              "#9c179e"
             ],
             [
              0.4444444444444444,
              "#bd3786"
             ],
             [
              0.5555555555555556,
              "#d8576b"
             ],
             [
              0.6666666666666666,
              "#ed7953"
             ],
             [
              0.7777777777777778,
              "#fb9f3a"
             ],
             [
              0.8888888888888888,
              "#fdca26"
             ],
             [
              1,
              "#f0f921"
             ]
            ],
            "type": "contour"
           }
          ],
          "contourcarpet": [
           {
            "colorbar": {
             "outlinewidth": 0,
             "ticks": ""
            },
            "type": "contourcarpet"
           }
          ],
          "heatmap": [
           {
            "colorbar": {
             "outlinewidth": 0,
             "ticks": ""
            },
            "colorscale": [
             [
              0,
              "#0d0887"
             ],
             [
              0.1111111111111111,
              "#46039f"
             ],
             [
              0.2222222222222222,
              "#7201a8"
             ],
             [
              0.3333333333333333,
              "#9c179e"
             ],
             [
              0.4444444444444444,
              "#bd3786"
             ],
             [
              0.5555555555555556,
              "#d8576b"
             ],
             [
              0.6666666666666666,
              "#ed7953"
             ],
             [
              0.7777777777777778,
              "#fb9f3a"
             ],
             [
              0.8888888888888888,
              "#fdca26"
             ],
             [
              1,
              "#f0f921"
             ]
            ],
            "type": "heatmap"
           }
          ],
          "heatmapgl": [
           {
            "colorbar": {
             "outlinewidth": 0,
             "ticks": ""
            },
            "colorscale": [
             [
              0,
              "#0d0887"
             ],
             [
              0.1111111111111111,
              "#46039f"
             ],
             [
              0.2222222222222222,
              "#7201a8"
             ],
             [
              0.3333333333333333,
              "#9c179e"
             ],
             [
              0.4444444444444444,
              "#bd3786"
             ],
             [
              0.5555555555555556,
              "#d8576b"
             ],
             [
              0.6666666666666666,
              "#ed7953"
             ],
             [
              0.7777777777777778,
              "#fb9f3a"
             ],
             [
              0.8888888888888888,
              "#fdca26"
             ],
             [
              1,
              "#f0f921"
             ]
            ],
            "type": "heatmapgl"
           }
          ],
          "histogram": [
           {
            "marker": {
             "pattern": {
              "fillmode": "overlay",
              "size": 10,
              "solidity": 0.2
             }
            },
            "type": "histogram"
           }
          ],
          "histogram2d": [
           {
            "colorbar": {
             "outlinewidth": 0,
             "ticks": ""
            },
            "colorscale": [
             [
              0,
              "#0d0887"
             ],
             [
              0.1111111111111111,
              "#46039f"
             ],
             [
              0.2222222222222222,
              "#7201a8"
             ],
             [
              0.3333333333333333,
              "#9c179e"
             ],
             [
              0.4444444444444444,
              "#bd3786"
             ],
             [
              0.5555555555555556,
              "#d8576b"
             ],
             [
              0.6666666666666666,
              "#ed7953"
             ],
             [
              0.7777777777777778,
              "#fb9f3a"
             ],
             [
              0.8888888888888888,
              "#fdca26"
             ],
             [
              1,
              "#f0f921"
             ]
            ],
            "type": "histogram2d"
           }
          ],
          "histogram2dcontour": [
           {
            "colorbar": {
             "outlinewidth": 0,
             "ticks": ""
            },
            "colorscale": [
             [
              0,
              "#0d0887"
             ],
             [
              0.1111111111111111,
              "#46039f"
             ],
             [
              0.2222222222222222,
              "#7201a8"
             ],
             [
              0.3333333333333333,
              "#9c179e"
             ],
             [
              0.4444444444444444,
              "#bd3786"
             ],
             [
              0.5555555555555556,
              "#d8576b"
             ],
             [
              0.6666666666666666,
              "#ed7953"
             ],
             [
              0.7777777777777778,
              "#fb9f3a"
             ],
             [
              0.8888888888888888,
              "#fdca26"
             ],
             [
              1,
              "#f0f921"
             ]
            ],
            "type": "histogram2dcontour"
           }
          ],
          "mesh3d": [
           {
            "colorbar": {
             "outlinewidth": 0,
             "ticks": ""
            },
            "type": "mesh3d"
           }
          ],
          "parcoords": [
           {
            "line": {
             "colorbar": {
              "outlinewidth": 0,
              "ticks": ""
             }
            },
            "type": "parcoords"
           }
          ],
          "pie": [
           {
            "automargin": true,
            "type": "pie"
           }
          ],
          "scatter": [
           {
            "fillpattern": {
             "fillmode": "overlay",
             "size": 10,
             "solidity": 0.2
            },
            "type": "scatter"
           }
          ],
          "scatter3d": [
           {
            "line": {
             "colorbar": {
              "outlinewidth": 0,
              "ticks": ""
             }
            },
            "marker": {
             "colorbar": {
              "outlinewidth": 0,
              "ticks": ""
             }
            },
            "type": "scatter3d"
           }
          ],
          "scattercarpet": [
           {
            "marker": {
             "colorbar": {
              "outlinewidth": 0,
              "ticks": ""
             }
            },
            "type": "scattercarpet"
           }
          ],
          "scattergeo": [
           {
            "marker": {
             "colorbar": {
              "outlinewidth": 0,
              "ticks": ""
             }
            },
            "type": "scattergeo"
           }
          ],
          "scattergl": [
           {
            "marker": {
             "colorbar": {
              "outlinewidth": 0,
              "ticks": ""
             }
            },
            "type": "scattergl"
           }
          ],
          "scattermapbox": [
           {
            "marker": {
             "colorbar": {
              "outlinewidth": 0,
              "ticks": ""
             }
            },
            "type": "scattermapbox"
           }
          ],
          "scatterpolar": [
           {
            "marker": {
             "colorbar": {
              "outlinewidth": 0,
              "ticks": ""
             }
            },
            "type": "scatterpolar"
           }
          ],
          "scatterpolargl": [
           {
            "marker": {
             "colorbar": {
              "outlinewidth": 0,
              "ticks": ""
             }
            },
            "type": "scatterpolargl"
           }
          ],
          "scatterternary": [
           {
            "marker": {
             "colorbar": {
              "outlinewidth": 0,
              "ticks": ""
             }
            },
            "type": "scatterternary"
           }
          ],
          "surface": [
           {
            "colorbar": {
             "outlinewidth": 0,
             "ticks": ""
            },
            "colorscale": [
             [
              0,
              "#0d0887"
             ],
             [
              0.1111111111111111,
              "#46039f"
             ],
             [
              0.2222222222222222,
              "#7201a8"
             ],
             [
              0.3333333333333333,
              "#9c179e"
             ],
             [
              0.4444444444444444,
              "#bd3786"
             ],
             [
              0.5555555555555556,
              "#d8576b"
             ],
             [
              0.6666666666666666,
              "#ed7953"
             ],
             [
              0.7777777777777778,
              "#fb9f3a"
             ],
             [
              0.8888888888888888,
              "#fdca26"
             ],
             [
              1,
              "#f0f921"
             ]
            ],
            "type": "surface"
           }
          ],
          "table": [
           {
            "cells": {
             "fill": {
              "color": "#EBF0F8"
             },
             "line": {
              "color": "white"
             }
            },
            "header": {
             "fill": {
              "color": "#C8D4E3"
             },
             "line": {
              "color": "white"
             }
            },
            "type": "table"
           }
          ]
         },
         "layout": {
          "annotationdefaults": {
           "arrowcolor": "#2a3f5f",
           "arrowhead": 0,
           "arrowwidth": 1
          },
          "autotypenumbers": "strict",
          "coloraxis": {
           "colorbar": {
            "outlinewidth": 0,
            "ticks": ""
           }
          },
          "colorscale": {
           "diverging": [
            [
             0,
             "#8e0152"
            ],
            [
             0.1,
             "#c51b7d"
            ],
            [
             0.2,
             "#de77ae"
            ],
            [
             0.3,
             "#f1b6da"
            ],
            [
             0.4,
             "#fde0ef"
            ],
            [
             0.5,
             "#f7f7f7"
            ],
            [
             0.6,
             "#e6f5d0"
            ],
            [
             0.7,
             "#b8e186"
            ],
            [
             0.8,
             "#7fbc41"
            ],
            [
             0.9,
             "#4d9221"
            ],
            [
             1,
             "#276419"
            ]
           ],
           "sequential": [
            [
             0,
             "#0d0887"
            ],
            [
             0.1111111111111111,
             "#46039f"
            ],
            [
             0.2222222222222222,
             "#7201a8"
            ],
            [
             0.3333333333333333,
             "#9c179e"
            ],
            [
             0.4444444444444444,
             "#bd3786"
            ],
            [
             0.5555555555555556,
             "#d8576b"
            ],
            [
             0.6666666666666666,
             "#ed7953"
            ],
            [
             0.7777777777777778,
             "#fb9f3a"
            ],
            [
             0.8888888888888888,
             "#fdca26"
            ],
            [
             1,
             "#f0f921"
            ]
           ],
           "sequentialminus": [
            [
             0,
             "#0d0887"
            ],
            [
             0.1111111111111111,
             "#46039f"
            ],
            [
             0.2222222222222222,
             "#7201a8"
            ],
            [
             0.3333333333333333,
             "#9c179e"
            ],
            [
             0.4444444444444444,
             "#bd3786"
            ],
            [
             0.5555555555555556,
             "#d8576b"
            ],
            [
             0.6666666666666666,
             "#ed7953"
            ],
            [
             0.7777777777777778,
             "#fb9f3a"
            ],
            [
             0.8888888888888888,
             "#fdca26"
            ],
            [
             1,
             "#f0f921"
            ]
           ]
          },
          "colorway": [
           "#636efa",
           "#EF553B",
           "#00cc96",
           "#ab63fa",
           "#FFA15A",
           "#19d3f3",
           "#FF6692",
           "#B6E880",
           "#FF97FF",
           "#FECB52"
          ],
          "font": {
           "color": "#2a3f5f"
          },
          "geo": {
           "bgcolor": "white",
           "lakecolor": "white",
           "landcolor": "#E5ECF6",
           "showlakes": true,
           "showland": true,
           "subunitcolor": "white"
          },
          "hoverlabel": {
           "align": "left"
          },
          "hovermode": "closest",
          "mapbox": {
           "style": "light"
          },
          "paper_bgcolor": "white",
          "plot_bgcolor": "#E5ECF6",
          "polar": {
           "angularaxis": {
            "gridcolor": "white",
            "linecolor": "white",
            "ticks": ""
           },
           "bgcolor": "#E5ECF6",
           "radialaxis": {
            "gridcolor": "white",
            "linecolor": "white",
            "ticks": ""
           }
          },
          "scene": {
           "xaxis": {
            "backgroundcolor": "#E5ECF6",
            "gridcolor": "white",
            "gridwidth": 2,
            "linecolor": "white",
            "showbackground": true,
            "ticks": "",
            "zerolinecolor": "white"
           },
           "yaxis": {
            "backgroundcolor": "#E5ECF6",
            "gridcolor": "white",
            "gridwidth": 2,
            "linecolor": "white",
            "showbackground": true,
            "ticks": "",
            "zerolinecolor": "white"
           },
           "zaxis": {
            "backgroundcolor": "#E5ECF6",
            "gridcolor": "white",
            "gridwidth": 2,
            "linecolor": "white",
            "showbackground": true,
            "ticks": "",
            "zerolinecolor": "white"
           }
          },
          "shapedefaults": {
           "line": {
            "color": "#2a3f5f"
           }
          },
          "ternary": {
           "aaxis": {
            "gridcolor": "white",
            "linecolor": "white",
            "ticks": ""
           },
           "baxis": {
            "gridcolor": "white",
            "linecolor": "white",
            "ticks": ""
           },
           "bgcolor": "#E5ECF6",
           "caxis": {
            "gridcolor": "white",
            "linecolor": "white",
            "ticks": ""
           }
          },
          "title": {
           "x": 0.05
          },
          "xaxis": {
           "automargin": true,
           "gridcolor": "white",
           "linecolor": "white",
           "ticks": "",
           "title": {
            "standoff": 15
           },
           "zerolinecolor": "white",
           "zerolinewidth": 2
          },
          "yaxis": {
           "automargin": true,
           "gridcolor": "white",
           "linecolor": "white",
           "ticks": "",
           "title": {
            "standoff": 15
           },
           "zerolinecolor": "white",
           "zerolinewidth": 2
          }
         }
        },
        "title": {
         "font": {
          "size": 20
         },
         "text": "Quantity of Reviews Per Month",
         "x": 0.5
        },
        "xaxis": {
         "anchor": "y",
         "domain": [
          0,
          1
         ],
         "gridcolor": "lightgray",
         "gridwidth": 1,
         "showgrid": true,
         "title": {
          "text": "Review Month"
         }
        },
        "yaxis": {
         "anchor": "x",
         "domain": [
          0,
          1
         ],
         "gridcolor": "lightgray",
         "gridwidth": 1,
         "showgrid": true,
         "title": {
          "text": "Number of Reviews"
         }
        }
       }
      }
     },
     "metadata": {},
     "output_type": "display_data"
    }
   ],
   "source": [
    "_df = df.review_month.value_counts().reset_index().rename(\n",
    "    columns={'index':'review_month', 'review_month':'count'})\n",
    "\n",
    "fig = px.bar(\n",
    "    _df, \n",
    "    x='review_month', \n",
    "    y='count', \n",
    "    title='Quantity of Reviews By Month')\n",
    "\n",
    "fig.update_xaxes(\n",
    "    title='Review Month',\n",
    "    gridcolor='lightgray',\n",
    "    showgrid=True, \n",
    "    gridwidth=1)\n",
    "\n",
    "fig.update_yaxes(\n",
    "    title='Number of Reviews',\n",
    "    gridcolor='lightgray',\n",
    "    showgrid=True, \n",
    "    gridwidth=1)\n",
    "\n",
    "fig.update_layout(\n",
    "    paper_bgcolor='rgba(0,0,0,0)',\n",
    "    plot_bgcolor='rgba(0,0,0,0)',\n",
    "    title_font_size=20,\n",
    "    showlegend=False,\n",
    "    hoverlabel=dict(\n",
    "        bgcolor='ivory',\n",
    "        font_size=16,\n",
    "        font_family='Rockwell'),\n",
    "    font=dict(family='Rockwell', \n",
    "            color='navy',\n",
    "            size=14), \n",
    "    title_x=0.5)\n",
    "\n",
    "fig.show()"
   ]
  },
  {
   "cell_type": "code",
   "execution_count": 112,
   "metadata": {},
   "outputs": [
    {
     "data": {
      "application/vnd.plotly.v1+json": {
       "config": {
        "plotlyServerURL": "https://plotly.com"
       },
       "data": [
        {
         "alignmentgroup": "True",
         "hovertemplate": "review_day=%{x}<br>count=%{y}<extra></extra>",
         "legendgroup": "",
         "marker": {
          "color": "#636efa",
          "pattern": {
           "shape": ""
          }
         },
         "name": "",
         "offsetgroup": "",
         "orientation": "v",
         "showlegend": false,
         "textposition": "auto",
         "type": "bar",
         "x": [
          9,
          18,
          3,
          17,
          4,
          11,
          10,
          7,
          23,
          8,
          6,
          19,
          15,
          16,
          21,
          14,
          22,
          13,
          20,
          5,
          12,
          24,
          27,
          2,
          26,
          28,
          25,
          29,
          30,
          1,
          31
         ],
         "xaxis": "x",
         "y": [
          82270,
          81642,
          81120,
          80898,
          80865,
          80779,
          80497,
          79919,
          79853,
          79835,
          79801,
          79681,
          79523,
          79450,
          79449,
          79407,
          79328,
          79139,
          78864,
          78592,
          77843,
          77207,
          77096,
          76613,
          76050,
          75704,
          75578,
          73565,
          72423,
          71465,
          48002
         ],
         "yaxis": "y"
        }
       ],
       "layout": {
        "barmode": "relative",
        "font": {
         "color": "navy",
         "family": "Rockwell",
         "size": 14
        },
        "hoverlabel": {
         "bgcolor": "ivory",
         "font": {
          "family": "Rockwell",
          "size": 16
         }
        },
        "legend": {
         "tracegroupgap": 0
        },
        "paper_bgcolor": "rgba(0,0,0,0)",
        "plot_bgcolor": "rgba(0,0,0,0)",
        "showlegend": false,
        "template": {
         "data": {
          "bar": [
           {
            "error_x": {
             "color": "#2a3f5f"
            },
            "error_y": {
             "color": "#2a3f5f"
            },
            "marker": {
             "line": {
              "color": "#E5ECF6",
              "width": 0.5
             },
             "pattern": {
              "fillmode": "overlay",
              "size": 10,
              "solidity": 0.2
             }
            },
            "type": "bar"
           }
          ],
          "barpolar": [
           {
            "marker": {
             "line": {
              "color": "#E5ECF6",
              "width": 0.5
             },
             "pattern": {
              "fillmode": "overlay",
              "size": 10,
              "solidity": 0.2
             }
            },
            "type": "barpolar"
           }
          ],
          "carpet": [
           {
            "aaxis": {
             "endlinecolor": "#2a3f5f",
             "gridcolor": "white",
             "linecolor": "white",
             "minorgridcolor": "white",
             "startlinecolor": "#2a3f5f"
            },
            "baxis": {
             "endlinecolor": "#2a3f5f",
             "gridcolor": "white",
             "linecolor": "white",
             "minorgridcolor": "white",
             "startlinecolor": "#2a3f5f"
            },
            "type": "carpet"
           }
          ],
          "choropleth": [
           {
            "colorbar": {
             "outlinewidth": 0,
             "ticks": ""
            },
            "type": "choropleth"
           }
          ],
          "contour": [
           {
            "colorbar": {
             "outlinewidth": 0,
             "ticks": ""
            },
            "colorscale": [
             [
              0,
              "#0d0887"
             ],
             [
              0.1111111111111111,
              "#46039f"
             ],
             [
              0.2222222222222222,
              "#7201a8"
             ],
             [
              0.3333333333333333,
              "#9c179e"
             ],
             [
              0.4444444444444444,
              "#bd3786"
             ],
             [
              0.5555555555555556,
              "#d8576b"
             ],
             [
              0.6666666666666666,
              "#ed7953"
             ],
             [
              0.7777777777777778,
              "#fb9f3a"
             ],
             [
              0.8888888888888888,
              "#fdca26"
             ],
             [
              1,
              "#f0f921"
             ]
            ],
            "type": "contour"
           }
          ],
          "contourcarpet": [
           {
            "colorbar": {
             "outlinewidth": 0,
             "ticks": ""
            },
            "type": "contourcarpet"
           }
          ],
          "heatmap": [
           {
            "colorbar": {
             "outlinewidth": 0,
             "ticks": ""
            },
            "colorscale": [
             [
              0,
              "#0d0887"
             ],
             [
              0.1111111111111111,
              "#46039f"
             ],
             [
              0.2222222222222222,
              "#7201a8"
             ],
             [
              0.3333333333333333,
              "#9c179e"
             ],
             [
              0.4444444444444444,
              "#bd3786"
             ],
             [
              0.5555555555555556,
              "#d8576b"
             ],
             [
              0.6666666666666666,
              "#ed7953"
             ],
             [
              0.7777777777777778,
              "#fb9f3a"
             ],
             [
              0.8888888888888888,
              "#fdca26"
             ],
             [
              1,
              "#f0f921"
             ]
            ],
            "type": "heatmap"
           }
          ],
          "heatmapgl": [
           {
            "colorbar": {
             "outlinewidth": 0,
             "ticks": ""
            },
            "colorscale": [
             [
              0,
              "#0d0887"
             ],
             [
              0.1111111111111111,
              "#46039f"
             ],
             [
              0.2222222222222222,
              "#7201a8"
             ],
             [
              0.3333333333333333,
              "#9c179e"
             ],
             [
              0.4444444444444444,
              "#bd3786"
             ],
             [
              0.5555555555555556,
              "#d8576b"
             ],
             [
              0.6666666666666666,
              "#ed7953"
             ],
             [
              0.7777777777777778,
              "#fb9f3a"
             ],
             [
              0.8888888888888888,
              "#fdca26"
             ],
             [
              1,
              "#f0f921"
             ]
            ],
            "type": "heatmapgl"
           }
          ],
          "histogram": [
           {
            "marker": {
             "pattern": {
              "fillmode": "overlay",
              "size": 10,
              "solidity": 0.2
             }
            },
            "type": "histogram"
           }
          ],
          "histogram2d": [
           {
            "colorbar": {
             "outlinewidth": 0,
             "ticks": ""
            },
            "colorscale": [
             [
              0,
              "#0d0887"
             ],
             [
              0.1111111111111111,
              "#46039f"
             ],
             [
              0.2222222222222222,
              "#7201a8"
             ],
             [
              0.3333333333333333,
              "#9c179e"
             ],
             [
              0.4444444444444444,
              "#bd3786"
             ],
             [
              0.5555555555555556,
              "#d8576b"
             ],
             [
              0.6666666666666666,
              "#ed7953"
             ],
             [
              0.7777777777777778,
              "#fb9f3a"
             ],
             [
              0.8888888888888888,
              "#fdca26"
             ],
             [
              1,
              "#f0f921"
             ]
            ],
            "type": "histogram2d"
           }
          ],
          "histogram2dcontour": [
           {
            "colorbar": {
             "outlinewidth": 0,
             "ticks": ""
            },
            "colorscale": [
             [
              0,
              "#0d0887"
             ],
             [
              0.1111111111111111,
              "#46039f"
             ],
             [
              0.2222222222222222,
              "#7201a8"
             ],
             [
              0.3333333333333333,
              "#9c179e"
             ],
             [
              0.4444444444444444,
              "#bd3786"
             ],
             [
              0.5555555555555556,
              "#d8576b"
             ],
             [
              0.6666666666666666,
              "#ed7953"
             ],
             [
              0.7777777777777778,
              "#fb9f3a"
             ],
             [
              0.8888888888888888,
              "#fdca26"
             ],
             [
              1,
              "#f0f921"
             ]
            ],
            "type": "histogram2dcontour"
           }
          ],
          "mesh3d": [
           {
            "colorbar": {
             "outlinewidth": 0,
             "ticks": ""
            },
            "type": "mesh3d"
           }
          ],
          "parcoords": [
           {
            "line": {
             "colorbar": {
              "outlinewidth": 0,
              "ticks": ""
             }
            },
            "type": "parcoords"
           }
          ],
          "pie": [
           {
            "automargin": true,
            "type": "pie"
           }
          ],
          "scatter": [
           {
            "fillpattern": {
             "fillmode": "overlay",
             "size": 10,
             "solidity": 0.2
            },
            "type": "scatter"
           }
          ],
          "scatter3d": [
           {
            "line": {
             "colorbar": {
              "outlinewidth": 0,
              "ticks": ""
             }
            },
            "marker": {
             "colorbar": {
              "outlinewidth": 0,
              "ticks": ""
             }
            },
            "type": "scatter3d"
           }
          ],
          "scattercarpet": [
           {
            "marker": {
             "colorbar": {
              "outlinewidth": 0,
              "ticks": ""
             }
            },
            "type": "scattercarpet"
           }
          ],
          "scattergeo": [
           {
            "marker": {
             "colorbar": {
              "outlinewidth": 0,
              "ticks": ""
             }
            },
            "type": "scattergeo"
           }
          ],
          "scattergl": [
           {
            "marker": {
             "colorbar": {
              "outlinewidth": 0,
              "ticks": ""
             }
            },
            "type": "scattergl"
           }
          ],
          "scattermapbox": [
           {
            "marker": {
             "colorbar": {
              "outlinewidth": 0,
              "ticks": ""
             }
            },
            "type": "scattermapbox"
           }
          ],
          "scatterpolar": [
           {
            "marker": {
             "colorbar": {
              "outlinewidth": 0,
              "ticks": ""
             }
            },
            "type": "scatterpolar"
           }
          ],
          "scatterpolargl": [
           {
            "marker": {
             "colorbar": {
              "outlinewidth": 0,
              "ticks": ""
             }
            },
            "type": "scatterpolargl"
           }
          ],
          "scatterternary": [
           {
            "marker": {
             "colorbar": {
              "outlinewidth": 0,
              "ticks": ""
             }
            },
            "type": "scatterternary"
           }
          ],
          "surface": [
           {
            "colorbar": {
             "outlinewidth": 0,
             "ticks": ""
            },
            "colorscale": [
             [
              0,
              "#0d0887"
             ],
             [
              0.1111111111111111,
              "#46039f"
             ],
             [
              0.2222222222222222,
              "#7201a8"
             ],
             [
              0.3333333333333333,
              "#9c179e"
             ],
             [
              0.4444444444444444,
              "#bd3786"
             ],
             [
              0.5555555555555556,
              "#d8576b"
             ],
             [
              0.6666666666666666,
              "#ed7953"
             ],
             [
              0.7777777777777778,
              "#fb9f3a"
             ],
             [
              0.8888888888888888,
              "#fdca26"
             ],
             [
              1,
              "#f0f921"
             ]
            ],
            "type": "surface"
           }
          ],
          "table": [
           {
            "cells": {
             "fill": {
              "color": "#EBF0F8"
             },
             "line": {
              "color": "white"
             }
            },
            "header": {
             "fill": {
              "color": "#C8D4E3"
             },
             "line": {
              "color": "white"
             }
            },
            "type": "table"
           }
          ]
         },
         "layout": {
          "annotationdefaults": {
           "arrowcolor": "#2a3f5f",
           "arrowhead": 0,
           "arrowwidth": 1
          },
          "autotypenumbers": "strict",
          "coloraxis": {
           "colorbar": {
            "outlinewidth": 0,
            "ticks": ""
           }
          },
          "colorscale": {
           "diverging": [
            [
             0,
             "#8e0152"
            ],
            [
             0.1,
             "#c51b7d"
            ],
            [
             0.2,
             "#de77ae"
            ],
            [
             0.3,
             "#f1b6da"
            ],
            [
             0.4,
             "#fde0ef"
            ],
            [
             0.5,
             "#f7f7f7"
            ],
            [
             0.6,
             "#e6f5d0"
            ],
            [
             0.7,
             "#b8e186"
            ],
            [
             0.8,
             "#7fbc41"
            ],
            [
             0.9,
             "#4d9221"
            ],
            [
             1,
             "#276419"
            ]
           ],
           "sequential": [
            [
             0,
             "#0d0887"
            ],
            [
             0.1111111111111111,
             "#46039f"
            ],
            [
             0.2222222222222222,
             "#7201a8"
            ],
            [
             0.3333333333333333,
             "#9c179e"
            ],
            [
             0.4444444444444444,
             "#bd3786"
            ],
            [
             0.5555555555555556,
             "#d8576b"
            ],
            [
             0.6666666666666666,
             "#ed7953"
            ],
            [
             0.7777777777777778,
             "#fb9f3a"
            ],
            [
             0.8888888888888888,
             "#fdca26"
            ],
            [
             1,
             "#f0f921"
            ]
           ],
           "sequentialminus": [
            [
             0,
             "#0d0887"
            ],
            [
             0.1111111111111111,
             "#46039f"
            ],
            [
             0.2222222222222222,
             "#7201a8"
            ],
            [
             0.3333333333333333,
             "#9c179e"
            ],
            [
             0.4444444444444444,
             "#bd3786"
            ],
            [
             0.5555555555555556,
             "#d8576b"
            ],
            [
             0.6666666666666666,
             "#ed7953"
            ],
            [
             0.7777777777777778,
             "#fb9f3a"
            ],
            [
             0.8888888888888888,
             "#fdca26"
            ],
            [
             1,
             "#f0f921"
            ]
           ]
          },
          "colorway": [
           "#636efa",
           "#EF553B",
           "#00cc96",
           "#ab63fa",
           "#FFA15A",
           "#19d3f3",
           "#FF6692",
           "#B6E880",
           "#FF97FF",
           "#FECB52"
          ],
          "font": {
           "color": "#2a3f5f"
          },
          "geo": {
           "bgcolor": "white",
           "lakecolor": "white",
           "landcolor": "#E5ECF6",
           "showlakes": true,
           "showland": true,
           "subunitcolor": "white"
          },
          "hoverlabel": {
           "align": "left"
          },
          "hovermode": "closest",
          "mapbox": {
           "style": "light"
          },
          "paper_bgcolor": "white",
          "plot_bgcolor": "#E5ECF6",
          "polar": {
           "angularaxis": {
            "gridcolor": "white",
            "linecolor": "white",
            "ticks": ""
           },
           "bgcolor": "#E5ECF6",
           "radialaxis": {
            "gridcolor": "white",
            "linecolor": "white",
            "ticks": ""
           }
          },
          "scene": {
           "xaxis": {
            "backgroundcolor": "#E5ECF6",
            "gridcolor": "white",
            "gridwidth": 2,
            "linecolor": "white",
            "showbackground": true,
            "ticks": "",
            "zerolinecolor": "white"
           },
           "yaxis": {
            "backgroundcolor": "#E5ECF6",
            "gridcolor": "white",
            "gridwidth": 2,
            "linecolor": "white",
            "showbackground": true,
            "ticks": "",
            "zerolinecolor": "white"
           },
           "zaxis": {
            "backgroundcolor": "#E5ECF6",
            "gridcolor": "white",
            "gridwidth": 2,
            "linecolor": "white",
            "showbackground": true,
            "ticks": "",
            "zerolinecolor": "white"
           }
          },
          "shapedefaults": {
           "line": {
            "color": "#2a3f5f"
           }
          },
          "ternary": {
           "aaxis": {
            "gridcolor": "white",
            "linecolor": "white",
            "ticks": ""
           },
           "baxis": {
            "gridcolor": "white",
            "linecolor": "white",
            "ticks": ""
           },
           "bgcolor": "#E5ECF6",
           "caxis": {
            "gridcolor": "white",
            "linecolor": "white",
            "ticks": ""
           }
          },
          "title": {
           "x": 0.05
          },
          "xaxis": {
           "automargin": true,
           "gridcolor": "white",
           "linecolor": "white",
           "ticks": "",
           "title": {
            "standoff": 15
           },
           "zerolinecolor": "white",
           "zerolinewidth": 2
          },
          "yaxis": {
           "automargin": true,
           "gridcolor": "white",
           "linecolor": "white",
           "ticks": "",
           "title": {
            "standoff": 15
           },
           "zerolinecolor": "white",
           "zerolinewidth": 2
          }
         }
        },
        "title": {
         "font": {
          "size": 20
         },
         "text": "Quantity of Reviews By Day",
         "x": 0.5
        },
        "xaxis": {
         "anchor": "y",
         "domain": [
          0,
          1
         ],
         "gridcolor": "lightgray",
         "gridwidth": 1,
         "showgrid": true,
         "title": {
          "text": "Review Day"
         }
        },
        "yaxis": {
         "anchor": "x",
         "domain": [
          0,
          1
         ],
         "gridcolor": "lightgray",
         "gridwidth": 1,
         "showgrid": true,
         "title": {
          "text": "Number of Reviews"
         }
        }
       }
      }
     },
     "metadata": {},
     "output_type": "display_data"
    }
   ],
   "source": [
    "_df = df.review_day.value_counts().reset_index().rename(\n",
    "    columns={'index':'review_day', 'review_day':'count'})\n",
    "\n",
    "fig = px.bar(\n",
    "    _df, \n",
    "    x='review_day', \n",
    "    y='count', \n",
    "    title='Quantity of Reviews By Day')\n",
    "\n",
    "fig.update_xaxes(\n",
    "    title='Review Day',\n",
    "    gridcolor='lightgray',\n",
    "    showgrid=True, \n",
    "    gridwidth=1)\n",
    "\n",
    "fig.update_yaxes(\n",
    "    title='Number of Reviews',\n",
    "    gridcolor='lightgray',\n",
    "    showgrid=True, \n",
    "    gridwidth=1)\n",
    "\n",
    "fig.update_layout(\n",
    "    paper_bgcolor='rgba(0,0,0,0)',\n",
    "    plot_bgcolor='rgba(0,0,0,0)',\n",
    "    title_font_size=20,\n",
    "    showlegend=False,\n",
    "    hoverlabel=dict(\n",
    "        bgcolor='ivory',\n",
    "        font_size=16,\n",
    "        font_family='Rockwell'),\n",
    "    font=dict(family='Rockwell', \n",
    "            color='navy',\n",
    "            size=14), \n",
    "    title_x=0.5)\n",
    "\n",
    "fig.show()"
   ]
  },
  {
   "cell_type": "code",
   "execution_count": 129,
   "metadata": {},
   "outputs": [
    {
     "data": {
      "application/vnd.plotly.v1+json": {
       "config": {
        "plotlyServerURL": "https://plotly.com"
       },
       "data": [
        {
         "hovertemplate": "variable=review_date<br>index=%{x}<br>value=%{y}<extra></extra>",
         "legendgroup": "review_date",
         "line": {
          "color": "#636efa",
          "dash": "solid"
         },
         "marker": {
          "symbol": "circle"
         },
         "mode": "markers+lines",
         "name": "review_date",
         "orientation": "v",
         "showlegend": true,
         "type": "scatter",
         "x": [
          2015,
          2014,
          2013,
          2012,
          2011,
          2010,
          2009,
          2008,
          2007,
          2006,
          2005,
          2004,
          2003,
          2002,
          2001,
          1999,
          2000
         ],
         "xaxis": "x",
         "y": [
          738513,
          729225,
          451455,
          184766,
          111141,
          66718,
          46722,
          33960,
          27870,
          8655,
          1947,
          1030,
          372,
          54,
          25,
          4,
          1
         ],
         "yaxis": "y"
        }
       ],
       "layout": {
        "font": {
         "color": "navy",
         "family": "Rockwell",
         "size": 14
        },
        "hoverlabel": {
         "bgcolor": "ivory",
         "font": {
          "family": "Rockwell",
          "size": 16
         }
        },
        "legend": {
         "title": {
          "text": "variable"
         },
         "tracegroupgap": 0
        },
        "paper_bgcolor": "rgba(0,0,0,0)",
        "plot_bgcolor": "rgba(0,0,0,0)",
        "showlegend": false,
        "template": {
         "data": {
          "bar": [
           {
            "error_x": {
             "color": "#2a3f5f"
            },
            "error_y": {
             "color": "#2a3f5f"
            },
            "marker": {
             "line": {
              "color": "#E5ECF6",
              "width": 0.5
             },
             "pattern": {
              "fillmode": "overlay",
              "size": 10,
              "solidity": 0.2
             }
            },
            "type": "bar"
           }
          ],
          "barpolar": [
           {
            "marker": {
             "line": {
              "color": "#E5ECF6",
              "width": 0.5
             },
             "pattern": {
              "fillmode": "overlay",
              "size": 10,
              "solidity": 0.2
             }
            },
            "type": "barpolar"
           }
          ],
          "carpet": [
           {
            "aaxis": {
             "endlinecolor": "#2a3f5f",
             "gridcolor": "white",
             "linecolor": "white",
             "minorgridcolor": "white",
             "startlinecolor": "#2a3f5f"
            },
            "baxis": {
             "endlinecolor": "#2a3f5f",
             "gridcolor": "white",
             "linecolor": "white",
             "minorgridcolor": "white",
             "startlinecolor": "#2a3f5f"
            },
            "type": "carpet"
           }
          ],
          "choropleth": [
           {
            "colorbar": {
             "outlinewidth": 0,
             "ticks": ""
            },
            "type": "choropleth"
           }
          ],
          "contour": [
           {
            "colorbar": {
             "outlinewidth": 0,
             "ticks": ""
            },
            "colorscale": [
             [
              0,
              "#0d0887"
             ],
             [
              0.1111111111111111,
              "#46039f"
             ],
             [
              0.2222222222222222,
              "#7201a8"
             ],
             [
              0.3333333333333333,
              "#9c179e"
             ],
             [
              0.4444444444444444,
              "#bd3786"
             ],
             [
              0.5555555555555556,
              "#d8576b"
             ],
             [
              0.6666666666666666,
              "#ed7953"
             ],
             [
              0.7777777777777778,
              "#fb9f3a"
             ],
             [
              0.8888888888888888,
              "#fdca26"
             ],
             [
              1,
              "#f0f921"
             ]
            ],
            "type": "contour"
           }
          ],
          "contourcarpet": [
           {
            "colorbar": {
             "outlinewidth": 0,
             "ticks": ""
            },
            "type": "contourcarpet"
           }
          ],
          "heatmap": [
           {
            "colorbar": {
             "outlinewidth": 0,
             "ticks": ""
            },
            "colorscale": [
             [
              0,
              "#0d0887"
             ],
             [
              0.1111111111111111,
              "#46039f"
             ],
             [
              0.2222222222222222,
              "#7201a8"
             ],
             [
              0.3333333333333333,
              "#9c179e"
             ],
             [
              0.4444444444444444,
              "#bd3786"
             ],
             [
              0.5555555555555556,
              "#d8576b"
             ],
             [
              0.6666666666666666,
              "#ed7953"
             ],
             [
              0.7777777777777778,
              "#fb9f3a"
             ],
             [
              0.8888888888888888,
              "#fdca26"
             ],
             [
              1,
              "#f0f921"
             ]
            ],
            "type": "heatmap"
           }
          ],
          "heatmapgl": [
           {
            "colorbar": {
             "outlinewidth": 0,
             "ticks": ""
            },
            "colorscale": [
             [
              0,
              "#0d0887"
             ],
             [
              0.1111111111111111,
              "#46039f"
             ],
             [
              0.2222222222222222,
              "#7201a8"
             ],
             [
              0.3333333333333333,
              "#9c179e"
             ],
             [
              0.4444444444444444,
              "#bd3786"
             ],
             [
              0.5555555555555556,
              "#d8576b"
             ],
             [
              0.6666666666666666,
              "#ed7953"
             ],
             [
              0.7777777777777778,
              "#fb9f3a"
             ],
             [
              0.8888888888888888,
              "#fdca26"
             ],
             [
              1,
              "#f0f921"
             ]
            ],
            "type": "heatmapgl"
           }
          ],
          "histogram": [
           {
            "marker": {
             "pattern": {
              "fillmode": "overlay",
              "size": 10,
              "solidity": 0.2
             }
            },
            "type": "histogram"
           }
          ],
          "histogram2d": [
           {
            "colorbar": {
             "outlinewidth": 0,
             "ticks": ""
            },
            "colorscale": [
             [
              0,
              "#0d0887"
             ],
             [
              0.1111111111111111,
              "#46039f"
             ],
             [
              0.2222222222222222,
              "#7201a8"
             ],
             [
              0.3333333333333333,
              "#9c179e"
             ],
             [
              0.4444444444444444,
              "#bd3786"
             ],
             [
              0.5555555555555556,
              "#d8576b"
             ],
             [
              0.6666666666666666,
              "#ed7953"
             ],
             [
              0.7777777777777778,
              "#fb9f3a"
             ],
             [
              0.8888888888888888,
              "#fdca26"
             ],
             [
              1,
              "#f0f921"
             ]
            ],
            "type": "histogram2d"
           }
          ],
          "histogram2dcontour": [
           {
            "colorbar": {
             "outlinewidth": 0,
             "ticks": ""
            },
            "colorscale": [
             [
              0,
              "#0d0887"
             ],
             [
              0.1111111111111111,
              "#46039f"
             ],
             [
              0.2222222222222222,
              "#7201a8"
             ],
             [
              0.3333333333333333,
              "#9c179e"
             ],
             [
              0.4444444444444444,
              "#bd3786"
             ],
             [
              0.5555555555555556,
              "#d8576b"
             ],
             [
              0.6666666666666666,
              "#ed7953"
             ],
             [
              0.7777777777777778,
              "#fb9f3a"
             ],
             [
              0.8888888888888888,
              "#fdca26"
             ],
             [
              1,
              "#f0f921"
             ]
            ],
            "type": "histogram2dcontour"
           }
          ],
          "mesh3d": [
           {
            "colorbar": {
             "outlinewidth": 0,
             "ticks": ""
            },
            "type": "mesh3d"
           }
          ],
          "parcoords": [
           {
            "line": {
             "colorbar": {
              "outlinewidth": 0,
              "ticks": ""
             }
            },
            "type": "parcoords"
           }
          ],
          "pie": [
           {
            "automargin": true,
            "type": "pie"
           }
          ],
          "scatter": [
           {
            "fillpattern": {
             "fillmode": "overlay",
             "size": 10,
             "solidity": 0.2
            },
            "type": "scatter"
           }
          ],
          "scatter3d": [
           {
            "line": {
             "colorbar": {
              "outlinewidth": 0,
              "ticks": ""
             }
            },
            "marker": {
             "colorbar": {
              "outlinewidth": 0,
              "ticks": ""
             }
            },
            "type": "scatter3d"
           }
          ],
          "scattercarpet": [
           {
            "marker": {
             "colorbar": {
              "outlinewidth": 0,
              "ticks": ""
             }
            },
            "type": "scattercarpet"
           }
          ],
          "scattergeo": [
           {
            "marker": {
             "colorbar": {
              "outlinewidth": 0,
              "ticks": ""
             }
            },
            "type": "scattergeo"
           }
          ],
          "scattergl": [
           {
            "marker": {
             "colorbar": {
              "outlinewidth": 0,
              "ticks": ""
             }
            },
            "type": "scattergl"
           }
          ],
          "scattermapbox": [
           {
            "marker": {
             "colorbar": {
              "outlinewidth": 0,
              "ticks": ""
             }
            },
            "type": "scattermapbox"
           }
          ],
          "scatterpolar": [
           {
            "marker": {
             "colorbar": {
              "outlinewidth": 0,
              "ticks": ""
             }
            },
            "type": "scatterpolar"
           }
          ],
          "scatterpolargl": [
           {
            "marker": {
             "colorbar": {
              "outlinewidth": 0,
              "ticks": ""
             }
            },
            "type": "scatterpolargl"
           }
          ],
          "scatterternary": [
           {
            "marker": {
             "colorbar": {
              "outlinewidth": 0,
              "ticks": ""
             }
            },
            "type": "scatterternary"
           }
          ],
          "surface": [
           {
            "colorbar": {
             "outlinewidth": 0,
             "ticks": ""
            },
            "colorscale": [
             [
              0,
              "#0d0887"
             ],
             [
              0.1111111111111111,
              "#46039f"
             ],
             [
              0.2222222222222222,
              "#7201a8"
             ],
             [
              0.3333333333333333,
              "#9c179e"
             ],
             [
              0.4444444444444444,
              "#bd3786"
             ],
             [
              0.5555555555555556,
              "#d8576b"
             ],
             [
              0.6666666666666666,
              "#ed7953"
             ],
             [
              0.7777777777777778,
              "#fb9f3a"
             ],
             [
              0.8888888888888888,
              "#fdca26"
             ],
             [
              1,
              "#f0f921"
             ]
            ],
            "type": "surface"
           }
          ],
          "table": [
           {
            "cells": {
             "fill": {
              "color": "#EBF0F8"
             },
             "line": {
              "color": "white"
             }
            },
            "header": {
             "fill": {
              "color": "#C8D4E3"
             },
             "line": {
              "color": "white"
             }
            },
            "type": "table"
           }
          ]
         },
         "layout": {
          "annotationdefaults": {
           "arrowcolor": "#2a3f5f",
           "arrowhead": 0,
           "arrowwidth": 1
          },
          "autotypenumbers": "strict",
          "coloraxis": {
           "colorbar": {
            "outlinewidth": 0,
            "ticks": ""
           }
          },
          "colorscale": {
           "diverging": [
            [
             0,
             "#8e0152"
            ],
            [
             0.1,
             "#c51b7d"
            ],
            [
             0.2,
             "#de77ae"
            ],
            [
             0.3,
             "#f1b6da"
            ],
            [
             0.4,
             "#fde0ef"
            ],
            [
             0.5,
             "#f7f7f7"
            ],
            [
             0.6,
             "#e6f5d0"
            ],
            [
             0.7,
             "#b8e186"
            ],
            [
             0.8,
             "#7fbc41"
            ],
            [
             0.9,
             "#4d9221"
            ],
            [
             1,
             "#276419"
            ]
           ],
           "sequential": [
            [
             0,
             "#0d0887"
            ],
            [
             0.1111111111111111,
             "#46039f"
            ],
            [
             0.2222222222222222,
             "#7201a8"
            ],
            [
             0.3333333333333333,
             "#9c179e"
            ],
            [
             0.4444444444444444,
             "#bd3786"
            ],
            [
             0.5555555555555556,
             "#d8576b"
            ],
            [
             0.6666666666666666,
             "#ed7953"
            ],
            [
             0.7777777777777778,
             "#fb9f3a"
            ],
            [
             0.8888888888888888,
             "#fdca26"
            ],
            [
             1,
             "#f0f921"
            ]
           ],
           "sequentialminus": [
            [
             0,
             "#0d0887"
            ],
            [
             0.1111111111111111,
             "#46039f"
            ],
            [
             0.2222222222222222,
             "#7201a8"
            ],
            [
             0.3333333333333333,
             "#9c179e"
            ],
            [
             0.4444444444444444,
             "#bd3786"
            ],
            [
             0.5555555555555556,
             "#d8576b"
            ],
            [
             0.6666666666666666,
             "#ed7953"
            ],
            [
             0.7777777777777778,
             "#fb9f3a"
            ],
            [
             0.8888888888888888,
             "#fdca26"
            ],
            [
             1,
             "#f0f921"
            ]
           ]
          },
          "colorway": [
           "#636efa",
           "#EF553B",
           "#00cc96",
           "#ab63fa",
           "#FFA15A",
           "#19d3f3",
           "#FF6692",
           "#B6E880",
           "#FF97FF",
           "#FECB52"
          ],
          "font": {
           "color": "#2a3f5f"
          },
          "geo": {
           "bgcolor": "white",
           "lakecolor": "white",
           "landcolor": "#E5ECF6",
           "showlakes": true,
           "showland": true,
           "subunitcolor": "white"
          },
          "hoverlabel": {
           "align": "left"
          },
          "hovermode": "closest",
          "mapbox": {
           "style": "light"
          },
          "paper_bgcolor": "white",
          "plot_bgcolor": "#E5ECF6",
          "polar": {
           "angularaxis": {
            "gridcolor": "white",
            "linecolor": "white",
            "ticks": ""
           },
           "bgcolor": "#E5ECF6",
           "radialaxis": {
            "gridcolor": "white",
            "linecolor": "white",
            "ticks": ""
           }
          },
          "scene": {
           "xaxis": {
            "backgroundcolor": "#E5ECF6",
            "gridcolor": "white",
            "gridwidth": 2,
            "linecolor": "white",
            "showbackground": true,
            "ticks": "",
            "zerolinecolor": "white"
           },
           "yaxis": {
            "backgroundcolor": "#E5ECF6",
            "gridcolor": "white",
            "gridwidth": 2,
            "linecolor": "white",
            "showbackground": true,
            "ticks": "",
            "zerolinecolor": "white"
           },
           "zaxis": {
            "backgroundcolor": "#E5ECF6",
            "gridcolor": "white",
            "gridwidth": 2,
            "linecolor": "white",
            "showbackground": true,
            "ticks": "",
            "zerolinecolor": "white"
           }
          },
          "shapedefaults": {
           "line": {
            "color": "#2a3f5f"
           }
          },
          "ternary": {
           "aaxis": {
            "gridcolor": "white",
            "linecolor": "white",
            "ticks": ""
           },
           "baxis": {
            "gridcolor": "white",
            "linecolor": "white",
            "ticks": ""
           },
           "bgcolor": "#E5ECF6",
           "caxis": {
            "gridcolor": "white",
            "linecolor": "white",
            "ticks": ""
           }
          },
          "title": {
           "x": 0.05
          },
          "xaxis": {
           "automargin": true,
           "gridcolor": "white",
           "linecolor": "white",
           "ticks": "",
           "title": {
            "standoff": 15
           },
           "zerolinecolor": "white",
           "zerolinewidth": 2
          },
          "yaxis": {
           "automargin": true,
           "gridcolor": "white",
           "linecolor": "white",
           "ticks": "",
           "title": {
            "standoff": 15
           },
           "zerolinecolor": "white",
           "zerolinewidth": 2
          }
         }
        },
        "title": {
         "font": {
          "size": 20
         },
         "text": "Number of Reviews Over Time",
         "x": 0.5
        },
        "xaxis": {
         "anchor": "y",
         "domain": [
          0,
          1
         ],
         "gridcolor": "lightgray",
         "gridwidth": 1,
         "showgrid": true,
         "title": {
          "text": "Year"
         }
        },
        "yaxis": {
         "anchor": "x",
         "domain": [
          0,
          1
         ],
         "gridcolor": "lightgray",
         "gridwidth": 1,
         "showgrid": true,
         "title": {
          "text": "Number of Reviews"
         }
        }
       }
      }
     },
     "metadata": {},
     "output_type": "display_data"
    }
   ],
   "source": [
    "df.review_date.apply(lambda x: x.year).value_counts()\n",
    "\n",
    "fig = px.line(\n",
    "    df.review_date.apply(lambda x: x.year).value_counts(), \n",
    "    title='Number of Reviews Over Time')\n",
    "\n",
    "fig.update_traces(mode='markers+lines')\n",
    "\n",
    "fig.update_xaxes(title='Year',\n",
    "    gridcolor='lightgray',\n",
    "                 showgrid=True, \n",
    "                 gridwidth=1)\n",
    "\n",
    "fig.update_yaxes(title='Number of Reviews',\n",
    "    gridcolor='lightgray',\n",
    "                 showgrid=True, \n",
    "                 gridwidth=1)\n",
    "\n",
    "fig.update_layout(paper_bgcolor='rgba(0,0,0,0)',\n",
    "                  plot_bgcolor='rgba(0,0,0,0)',\n",
    "                  title_font_size=20,\n",
    "                  showlegend=False,\n",
    "                  hoverlabel=dict(\n",
    "                      bgcolor='ivory',\n",
    "                      font_size=16,\n",
    "                      font_family='Rockwell'),\n",
    "                  font=dict(family='Rockwell', \n",
    "                            color='navy',\n",
    "                            size=14), \n",
    "                  title_x=0.5)\n",
    "\n",
    "fig.show()"
   ]
  },
  {
   "cell_type": "code",
   "execution_count": 26,
   "metadata": {},
   "outputs": [
    {
     "data": {
      "text/html": [
       "<div>\n",
       "<style scoped>\n",
       "    .dataframe tbody tr th:only-of-type {\n",
       "        vertical-align: middle;\n",
       "    }\n",
       "\n",
       "    .dataframe tbody tr th {\n",
       "        vertical-align: top;\n",
       "    }\n",
       "\n",
       "    .dataframe thead th {\n",
       "        text-align: right;\n",
       "    }\n",
       "</style>\n",
       "<table border=\"1\" class=\"dataframe\">\n",
       "  <thead>\n",
       "    <tr style=\"text-align: right;\">\n",
       "      <th></th>\n",
       "      <th>customer_id</th>\n",
       "      <th>review_id</th>\n",
       "      <th>product_id</th>\n",
       "      <th>product_parent</th>\n",
       "      <th>product_title</th>\n",
       "      <th>star_rating</th>\n",
       "      <th>helpful_votes</th>\n",
       "      <th>total_votes</th>\n",
       "      <th>vine</th>\n",
       "      <th>verified_purchase</th>\n",
       "      <th>review_headline</th>\n",
       "      <th>review_body</th>\n",
       "      <th>review_date</th>\n",
       "    </tr>\n",
       "  </thead>\n",
       "  <tbody>\n",
       "    <tr>\n",
       "      <th>2344167</th>\n",
       "      <td>47364506</td>\n",
       "      <td>RXXPVOUH9NLL3</td>\n",
       "      <td>B00032G1S0</td>\n",
       "      <td>753469671</td>\n",
       "      <td>Tuscan Dairy Whole Vitamin D Milk, Gallon, 128 oz</td>\n",
       "      <td>5</td>\n",
       "      <td>23755</td>\n",
       "      <td>24170</td>\n",
       "      <td>N</td>\n",
       "      <td>N</td>\n",
       "      <td>Make this your only stock and store</td>\n",
       "      <td>Once upon a mid-day sunny, while I savored Nut...</td>\n",
       "      <td>2008-07-08</td>\n",
       "    </tr>\n",
       "    <tr>\n",
       "      <th>923600</th>\n",
       "      <td>29857793</td>\n",
       "      <td>R2DQNJRV27D3P0</td>\n",
       "      <td>B000EVOSE4</td>\n",
       "      <td>990977895</td>\n",
       "      <td>Haribo Gummi Candy Gold-Bears,</td>\n",
       "      <td>5</td>\n",
       "      <td>11045</td>\n",
       "      <td>11901</td>\n",
       "      <td>N</td>\n",
       "      <td>N</td>\n",
       "      <td>I have seen the face of God.</td>\n",
       "      <td>I didn't feel the need to plan my weekend arou...</td>\n",
       "      <td>2014-10-22</td>\n",
       "    </tr>\n",
       "    <tr>\n",
       "      <th>2393030</th>\n",
       "      <td>49234072</td>\n",
       "      <td>RKT07YYORZMZE</td>\n",
       "      <td>B00032G1S0</td>\n",
       "      <td>753469671</td>\n",
       "      <td>Tuscan Dairy Whole Vitamin D Milk, Gallon, 128 oz</td>\n",
       "      <td>3</td>\n",
       "      <td>9986</td>\n",
       "      <td>10304</td>\n",
       "      <td>N</td>\n",
       "      <td>N</td>\n",
       "      <td>One Friday, Without the Milk</td>\n",
       "      <td>He always brought home milk on Friday. &lt;br /&gt; ...</td>\n",
       "      <td>2006-10-30</td>\n",
       "    </tr>\n",
       "    <tr>\n",
       "      <th>1756395</th>\n",
       "      <td>9286343</td>\n",
       "      <td>R3SC3RFGX29KPJ</td>\n",
       "      <td>B00012182G</td>\n",
       "      <td>554396858</td>\n",
       "      <td>Fresh Whole Rabbit</td>\n",
       "      <td>1</td>\n",
       "      <td>7886</td>\n",
       "      <td>8076</td>\n",
       "      <td>N</td>\n",
       "      <td>N</td>\n",
       "      <td>Not like Game of Thrones</td>\n",
       "      <td>Brad and I were very excited to order a few of...</td>\n",
       "      <td>2013-05-10</td>\n",
       "    </tr>\n",
       "    <tr>\n",
       "      <th>249057</th>\n",
       "      <td>809523</td>\n",
       "      <td>R2JGNJ5ZPJT4YC</td>\n",
       "      <td>B000EVOSE4</td>\n",
       "      <td>990977895</td>\n",
       "      <td>Haribo Gummi Candy Gold-Bears,</td>\n",
       "      <td>1</td>\n",
       "      <td>6201</td>\n",
       "      <td>6900</td>\n",
       "      <td>N</td>\n",
       "      <td>N</td>\n",
       "      <td>See you in hell, Haribo Sugar-Free Gummi Bears</td>\n",
       "      <td>It was my last class of the semester, and the ...</td>\n",
       "      <td>2015-06-05</td>\n",
       "    </tr>\n",
       "    <tr>\n",
       "      <th>...</th>\n",
       "      <td>...</td>\n",
       "      <td>...</td>\n",
       "      <td>...</td>\n",
       "      <td>...</td>\n",
       "      <td>...</td>\n",
       "      <td>...</td>\n",
       "      <td>...</td>\n",
       "      <td>...</td>\n",
       "      <td>...</td>\n",
       "      <td>...</td>\n",
       "      <td>...</td>\n",
       "      <td>...</td>\n",
       "      <td>...</td>\n",
       "    </tr>\n",
       "    <tr>\n",
       "      <th>920063</th>\n",
       "      <td>41928415</td>\n",
       "      <td>R48P5I6RBY7RK</td>\n",
       "      <td>B007Y59HVM</td>\n",
       "      <td>267956568</td>\n",
       "      <td>San Francisco Bay One Cup</td>\n",
       "      <td>5</td>\n",
       "      <td>0</td>\n",
       "      <td>0</td>\n",
       "      <td>N</td>\n",
       "      <td>Y</td>\n",
       "      <td>hal-price per k-cup!!!</td>\n",
       "      <td>great product, great price, but use your own c...</td>\n",
       "      <td>2014-10-24</td>\n",
       "    </tr>\n",
       "    <tr>\n",
       "      <th>920062</th>\n",
       "      <td>10993703</td>\n",
       "      <td>R1JJ3QLVVHML01</td>\n",
       "      <td>B000FFLTD2</td>\n",
       "      <td>893081147</td>\n",
       "      <td>Dr. McDougall's Right Foods Vegan Pad Thai Noo...</td>\n",
       "      <td>5</td>\n",
       "      <td>0</td>\n",
       "      <td>0</td>\n",
       "      <td>N</td>\n",
       "      <td>N</td>\n",
       "      <td>Five Stars</td>\n",
       "      <td>The Pad Thai soup is delicious and so quick to...</td>\n",
       "      <td>2014-10-24</td>\n",
       "    </tr>\n",
       "    <tr>\n",
       "      <th>920059</th>\n",
       "      <td>17522687</td>\n",
       "      <td>R3Q6NR2WWXPKLZ</td>\n",
       "      <td>B00M2OGS08</td>\n",
       "      <td>715217277</td>\n",
       "      <td>Surge Citrus Flavored Soda 16fl oz. 12 cans</td>\n",
       "      <td>5</td>\n",
       "      <td>0</td>\n",
       "      <td>0</td>\n",
       "      <td>N</td>\n",
       "      <td>Y</td>\n",
       "      <td>Five Stars</td>\n",
       "      <td>It was excellent just like I remembered</td>\n",
       "      <td>2014-10-24</td>\n",
       "    </tr>\n",
       "    <tr>\n",
       "      <th>920057</th>\n",
       "      <td>43724923</td>\n",
       "      <td>RJFN6IAQ1MNEF</td>\n",
       "      <td>B008MIGHFE</td>\n",
       "      <td>854138558</td>\n",
       "      <td>Health Warrior Chia Bars</td>\n",
       "      <td>4</td>\n",
       "      <td>0</td>\n",
       "      <td>0</td>\n",
       "      <td>N</td>\n",
       "      <td>Y</td>\n",
       "      <td>Good</td>\n",
       "      <td>Tasty bars. Good price</td>\n",
       "      <td>2014-10-24</td>\n",
       "    </tr>\n",
       "    <tr>\n",
       "      <th>2402457</th>\n",
       "      <td>51207278</td>\n",
       "      <td>R3L60AR0DQYYMS</td>\n",
       "      <td>B00000K1X9</td>\n",
       "      <td>161697639</td>\n",
       "      <td>479 NATL SHOW HRSE BAY PINTO 6</td>\n",
       "      <td>5</td>\n",
       "      <td>0</td>\n",
       "      <td>0</td>\n",
       "      <td>N</td>\n",
       "      <td>N</td>\n",
       "      <td>Great</td>\n",
       "      <td>This Breyer horse is wonderful. She is beautif...</td>\n",
       "      <td>1999-09-05</td>\n",
       "    </tr>\n",
       "  </tbody>\n",
       "</table>\n",
       "<p>2402458 rows × 13 columns</p>\n",
       "</div>"
      ],
      "text/plain": [
       "         customer_id       review_id  product_id  product_parent  \\\n",
       "2344167     47364506   RXXPVOUH9NLL3  B00032G1S0       753469671   \n",
       "923600      29857793  R2DQNJRV27D3P0  B000EVOSE4       990977895   \n",
       "2393030     49234072   RKT07YYORZMZE  B00032G1S0       753469671   \n",
       "1756395      9286343  R3SC3RFGX29KPJ  B00012182G       554396858   \n",
       "249057        809523  R2JGNJ5ZPJT4YC  B000EVOSE4       990977895   \n",
       "...              ...             ...         ...             ...   \n",
       "920063      41928415   R48P5I6RBY7RK  B007Y59HVM       267956568   \n",
       "920062      10993703  R1JJ3QLVVHML01  B000FFLTD2       893081147   \n",
       "920059      17522687  R3Q6NR2WWXPKLZ  B00M2OGS08       715217277   \n",
       "920057      43724923   RJFN6IAQ1MNEF  B008MIGHFE       854138558   \n",
       "2402457     51207278  R3L60AR0DQYYMS  B00000K1X9       161697639   \n",
       "\n",
       "                                             product_title  star_rating  \\\n",
       "2344167  Tuscan Dairy Whole Vitamin D Milk, Gallon, 128 oz            5   \n",
       "923600                      Haribo Gummi Candy Gold-Bears,            5   \n",
       "2393030  Tuscan Dairy Whole Vitamin D Milk, Gallon, 128 oz            3   \n",
       "1756395                                 Fresh Whole Rabbit            1   \n",
       "249057                      Haribo Gummi Candy Gold-Bears,            1   \n",
       "...                                                    ...          ...   \n",
       "920063                           San Francisco Bay One Cup            5   \n",
       "920062   Dr. McDougall's Right Foods Vegan Pad Thai Noo...            5   \n",
       "920059         Surge Citrus Flavored Soda 16fl oz. 12 cans            5   \n",
       "920057                            Health Warrior Chia Bars            4   \n",
       "2402457                     479 NATL SHOW HRSE BAY PINTO 6            5   \n",
       "\n",
       "         helpful_votes  total_votes vine verified_purchase  \\\n",
       "2344167          23755        24170    N                 N   \n",
       "923600           11045        11901    N                 N   \n",
       "2393030           9986        10304    N                 N   \n",
       "1756395           7886         8076    N                 N   \n",
       "249057            6201         6900    N                 N   \n",
       "...                ...          ...  ...               ...   \n",
       "920063               0            0    N                 Y   \n",
       "920062               0            0    N                 N   \n",
       "920059               0            0    N                 Y   \n",
       "920057               0            0    N                 Y   \n",
       "2402457              0            0    N                 N   \n",
       "\n",
       "                                        review_headline  \\\n",
       "2344167             Make this your only stock and store   \n",
       "923600                     I have seen the face of God.   \n",
       "2393030                    One Friday, Without the Milk   \n",
       "1756395                        Not like Game of Thrones   \n",
       "249057   See you in hell, Haribo Sugar-Free Gummi Bears   \n",
       "...                                                 ...   \n",
       "920063                           hal-price per k-cup!!!   \n",
       "920062                                       Five Stars   \n",
       "920059                                       Five Stars   \n",
       "920057                                             Good   \n",
       "2402457                                           Great   \n",
       "\n",
       "                                               review_body review_date  \n",
       "2344167  Once upon a mid-day sunny, while I savored Nut...  2008-07-08  \n",
       "923600   I didn't feel the need to plan my weekend arou...  2014-10-22  \n",
       "2393030  He always brought home milk on Friday. <br /> ...  2006-10-30  \n",
       "1756395  Brad and I were very excited to order a few of...  2013-05-10  \n",
       "249057   It was my last class of the semester, and the ...  2015-06-05  \n",
       "...                                                    ...         ...  \n",
       "920063   great product, great price, but use your own c...  2014-10-24  \n",
       "920062   The Pad Thai soup is delicious and so quick to...  2014-10-24  \n",
       "920059             It was excellent just like I remembered  2014-10-24  \n",
       "920057                              Tasty bars. Good price  2014-10-24  \n",
       "2402457  This Breyer horse is wonderful. She is beautif...  1999-09-05  \n",
       "\n",
       "[2402458 rows x 13 columns]"
      ]
     },
     "execution_count": 26,
     "metadata": {},
     "output_type": "execute_result"
    }
   ],
   "source": [
    "df.sort_values(by='total_votes', ascending=False)"
   ]
  },
  {
   "cell_type": "code",
   "execution_count": 24,
   "metadata": {},
   "outputs": [
    {
     "data": {
      "text/plain": [
       "\"It was my last class of the semester, and the final exam was worth 30% of our grade.<br />After a late night study session I felt confident, but I had to decide between sleeping in or cooking breakfast. My eyelids chose sleep.<br />My stomach later regretted this decision, and after several uncomfortable stomach growls, I finally decided to make a quick stop by the campus bookstore and grab a snack before my test. Since the semester was ending and everyone was going home for the summer, a lot of items were on sale, including the snacks and candy that they kept up front. Being in the hungry state that I was in, it felt only logical to pick the largest, yet least expensive candy in order to get more bang for my buck.<br />And there they sat: two bags of Haribo Sugar-Free Gummi Bears, buy one get one free.<br />&#34;What a deal!&#34; I thought naïvely. I would eat one bag before my test, and one bag afterwards.<br />As I walked to class, I gleefully chewed on those abominable little bastards, unaware of the utter mayhem that they would soon unleash upon my poor, poor anus.<br />I sat down at my desk as the professor informed us that, due to issues with cheating in the past, restroom breaks would be prohibited until the completion of the exam.<br />&#34;I'll give you 10 minutes to use the restroom now; this will be your last chance. Any takers?&#34;<br />The demon bears hadn't released their unholy necromancy upon my stomach yet, so in my moment of ignorant foolishness, I remained seated, still munching on those miniature bear-shaped bombs.<br />After the students wise enough to take the professor's offer had returned, the professor handed out the test. I was six questions in when it happened.<br />It started subtly at first, almost like a slight tingly sensation in my lower abdomen. I thought nothing of it, assuming my intestines were just doing their thang. Little did I know that my intestines were trying desperately to warn me of the horror that was on the horizon.<br />By question 9 it happened again, but this time it was followed by a sharp pain, as if those infernal hellions had orchestrated an attack upon my colon. I fought to contain the groan that tried escaping my lips. It was at this point I began to panic; something was going horribly long, and I needed to get through this test before it got any worse.<br />By question 14 my worst fear was upon me; the Satan bears' burning, hot, liquidy dark magic crashed against my anal sphincter like a tidal wave. I was able to close the hatch just in time, but those relentless, toxic bears beat against it like Orcs breaking down the doors of Helm's Deep. I knew I wouldn't be able to so much as shift in my seat without risking a breach.<br />I kept fighting through my exam, clenching my cheeks with all my might. Beads of sweat began rolling down my neck. Suddenly, a loud, gurgling war cry came from my belly, and the entire class lifted their heads.<br />At this point, nothing mattered except expelling this ungodly presence from my bowels. With 15 questions left, I promptly wrote C for every answer and ran out of the classroom. My professor yelled something, but I was too preoccupied with the volcanic eruption that needed to take place before I could find sweet, sweet relief.<br />I burst into the restroom like the Kool-Aid man and, behold, the handicap stall was empty. Sun rays from the adjacent window shone upon it, as if it were a gift from God himself. It took me less than .5 seconds to undo my belt buckle, pull down my pants, and finally relax my weary buttocks upon the toilet seat.<br />It took absolutely no effort to expel this demon. Almost immediately, the floodgates of hell were opened and the damned, liquified souls of an entire bag's worth of gummi bears cried as they burned through my sphincter and into the watery abyss below. I had never felt such simultaneous relief and anguish in my life.<br />After 30 more minutes of this, I immediately went home, dug a hole in my backyard, and burned the remaining bag of gummi bears.<br />I leave with this; do not, I repeat do NOT eat these spawns of Satan. Not only did they cause me to fail my final test, but the anguish I experienced is something I wouldn't wish upon anyone, not even my worst enemy. The only place these god forsaken hell bears belong are buried deep below the Earth's surface.kyard, and burned the remaining bag of gummi bears.<br />I leave with this; do not, I repeat do NOT eat these spawns of Satan. Not only did they cause me to fail my final test, but the anguish I experienced is something I wouldn't wish upon anyone, not even my worst enemy. The only place these god forsaken hell bears belong are buried deep below the Earth's surface.\""
      ]
     },
     "execution_count": 24,
     "metadata": {},
     "output_type": "execute_result"
    }
   ],
   "source": [
    "df.sort_values(by='helpful_votes', ascending=False).review_body.iloc[4]"
   ]
  },
  {
   "cell_type": "code",
   "execution_count": 127,
   "metadata": {},
   "outputs": [
    {
     "data": {
      "text/plain": [
       "6201"
      ]
     },
     "execution_count": 127,
     "metadata": {},
     "output_type": "execute_result"
    }
   ],
   "source": [
    "df.sort_values(by='helpful_votes', ascending=False).helpful_votes.iloc[4]"
   ]
  },
  {
   "cell_type": "code",
   "execution_count": 128,
   "metadata": {},
   "outputs": [
    {
     "data": {
      "text/plain": [
       "customer_id                                                     809523\n",
       "review_id                                               R2JGNJ5ZPJT4YC\n",
       "product_id                                                  B000EVOSE4\n",
       "product_parent                                               990977895\n",
       "product_title                           Haribo Gummi Candy Gold-Bears,\n",
       "star_rating                                                          1\n",
       "helpful_votes                                                     6201\n",
       "total_votes                                                       6900\n",
       "vine                                                                 N\n",
       "verified_purchase                                                    N\n",
       "review_headline         See you in hell, Haribo Sugar-Free Gummi Bears\n",
       "review_body          It was my last class of the semester, and the ...\n",
       "review_date                                        2015-06-05 00:00:00\n",
       "review_month                                                         6\n",
       "review_day                                                           5\n",
       "Name: 249057, dtype: object"
      ]
     },
     "execution_count": 128,
     "metadata": {},
     "output_type": "execute_result"
    }
   ],
   "source": [
    "df.sort_values(by='helpful_votes', ascending=False).iloc[4]"
   ]
  },
  {
   "cell_type": "code",
   "execution_count": 155,
   "metadata": {},
   "outputs": [
    {
     "data": {
      "application/vnd.plotly.v1+json": {
       "config": {
        "plotlyServerURL": "https://plotly.com"
       },
       "data": [
        {
         "hovertemplate": "Number of Reviews: %{y}",
         "legendgroup": "",
         "marker": {
          "color": "#636efa",
          "symbol": "circle"
         },
         "mode": "markers+lines",
         "name": "",
         "orientation": "v",
         "showlegend": false,
         "type": "scatter",
         "xaxis": "x",
         "yaxis": "y"
        },
        {
         "hovertemplate": "Number of Reviews: %{y}",
         "mode": "markers+lines",
         "name": "1999",
         "showlegend": true,
         "type": "scatter",
         "y": [
          1,
          1,
          1,
          1
         ]
        },
        {
         "hovertemplate": "Number of Reviews: %{y}",
         "mode": "markers+lines",
         "name": "2000",
         "showlegend": true,
         "type": "scatter",
         "y": [
          1
         ]
        },
        {
         "hovertemplate": "Number of Reviews: %{y}",
         "mode": "markers+lines",
         "name": "2001",
         "showlegend": true,
         "type": "scatter",
         "y": [
          7,
          2,
          2,
          2,
          2,
          1,
          1,
          1,
          1,
          1,
          1,
          1,
          1,
          1,
          1
         ]
        },
        {
         "hovertemplate": "Number of Reviews: %{y}",
         "mode": "markers+lines",
         "name": "2002",
         "showlegend": true,
         "type": "scatter",
         "y": [
          6,
          5,
          4,
          4,
          3,
          3,
          3,
          3,
          3,
          2,
          2,
          2,
          2,
          1,
          1,
          1,
          1,
          1,
          1,
          1,
          1,
          1,
          1,
          1,
          1
         ]
        },
        {
         "hovertemplate": "Number of Reviews: %{y}",
         "mode": "markers+lines",
         "name": "2003",
         "showlegend": true,
         "type": "scatter",
         "y": [
          19,
          19,
          18,
          18,
          17,
          16,
          16,
          15,
          14,
          14,
          14,
          14,
          13,
          13,
          12,
          12,
          11,
          11,
          11,
          10,
          9,
          9,
          8,
          8,
          8,
          8,
          8,
          7,
          7,
          7,
          6
         ]
        },
        {
         "hovertemplate": "Number of Reviews: %{y}",
         "mode": "markers+lines",
         "name": "2004",
         "showlegend": true,
         "type": "scatter",
         "y": [
          49,
          46,
          44,
          42,
          41,
          40,
          39,
          38,
          38,
          38,
          38,
          35,
          34,
          33,
          33,
          33,
          32,
          31,
          31,
          31,
          31,
          28,
          28,
          27,
          27,
          27,
          27,
          25,
          25,
          22,
          17
         ]
        },
        {
         "hovertemplate": "Number of Reviews: %{y}",
         "mode": "markers+lines",
         "name": "2005",
         "showlegend": true,
         "type": "scatter",
         "y": [
          95,
          83,
          79,
          76,
          75,
          73,
          72,
          72,
          72,
          72,
          66,
          66,
          65,
          65,
          62,
          62,
          60,
          60,
          60,
          57,
          56,
          56,
          54,
          54,
          54,
          54,
          53,
          53,
          52,
          49,
          20
         ]
        },
        {
         "hovertemplate": "Number of Reviews: %{y}",
         "mode": "markers+lines",
         "name": "2006",
         "showlegend": true,
         "type": "scatter",
         "y": [
          533,
          413,
          373,
          372,
          362,
          307,
          298,
          298,
          285,
          284,
          276,
          273,
          270,
          263,
          263,
          261,
          260,
          260,
          258,
          257,
          255,
          249,
          238,
          233,
          233,
          230,
          225,
          218,
          217,
          201,
          190
         ]
        },
        {
         "hovertemplate": "Number of Reviews: %{y}",
         "mode": "markers+lines",
         "name": "2007",
         "showlegend": true,
         "type": "scatter",
         "y": [
          1614,
          1415,
          1168,
          1164,
          1147,
          1084,
          973,
          967,
          966,
          916,
          910,
          902,
          895,
          881,
          879,
          843,
          829,
          823,
          817,
          804,
          800,
          782,
          772,
          757,
          754,
          728,
          726,
          708,
          682,
          665,
          499
         ]
        },
        {
         "hovertemplate": "Number of Reviews: %{y}",
         "mode": "markers+lines",
         "name": "2008",
         "showlegend": true,
         "type": "scatter",
         "y": [
          1316,
          1316,
          1257,
          1202,
          1197,
          1192,
          1180,
          1167,
          1164,
          1152,
          1149,
          1125,
          1125,
          1118,
          1092,
          1090,
          1081,
          1078,
          1072,
          1070,
          1070,
          1069,
          1068,
          1046,
          1034,
          1025,
          1006,
          1006,
          964,
          905,
          624
         ]
        },
        {
         "hovertemplate": "Number of Reviews: %{y}",
         "mode": "markers+lines",
         "name": "2009",
         "showlegend": true,
         "type": "scatter",
         "y": [
          2093,
          1661,
          1630,
          1615,
          1598,
          1589,
          1581,
          1575,
          1568,
          1564,
          1556,
          1556,
          1556,
          1555,
          1543,
          1535,
          1522,
          1513,
          1510,
          1487,
          1460,
          1456,
          1441,
          1429,
          1418,
          1411,
          1375,
          1372,
          1367,
          1314,
          872
         ]
        },
        {
         "hovertemplate": "Number of Reviews: %{y}",
         "mode": "markers+lines",
         "name": "2010",
         "showlegend": true,
         "type": "scatter",
         "y": [
          2380,
          2373,
          2328,
          2324,
          2304,
          2288,
          2238,
          2234,
          2233,
          2212,
          2196,
          2192,
          2181,
          2175,
          2174,
          2174,
          2171,
          2160,
          2158,
          2158,
          2126,
          2117,
          2100,
          2098,
          2082,
          2071,
          2066,
          2042,
          2034,
          1976,
          1353
         ]
        },
        {
         "hovertemplate": "Number of Reviews: %{y}",
         "mode": "markers+lines",
         "name": "2011",
         "showlegend": true,
         "type": "scatter",
         "y": [
          4150,
          4043,
          3875,
          3874,
          3794,
          3775,
          3772,
          3752,
          3746,
          3649,
          3630,
          3613,
          3611,
          3595,
          3589,
          3580,
          3578,
          3564,
          3538,
          3528,
          3520,
          3514,
          3508,
          3495,
          3467,
          3467,
          3428,
          3397,
          3343,
          3323,
          2423
         ]
        },
        {
         "hovertemplate": "Number of Reviews: %{y}",
         "mode": "markers+lines",
         "name": "2012",
         "showlegend": true,
         "type": "scatter",
         "y": [
          6917,
          6627,
          6511,
          6484,
          6455,
          6405,
          6384,
          6349,
          6340,
          6300,
          6255,
          6199,
          6082,
          6069,
          6047,
          6022,
          6018,
          5987,
          5947,
          5879,
          5878,
          5818,
          5727,
          5699,
          5647,
          5616,
          5579,
          5508,
          5193,
          5121,
          3703
         ]
        },
        {
         "hovertemplate": "Number of Reviews: %{y}",
         "mode": "markers+lines",
         "name": "2013",
         "showlegend": true,
         "type": "scatter",
         "y": [
          16024,
          15764,
          15676,
          15525,
          15412,
          15326,
          15311,
          15241,
          15200,
          15160,
          15047,
          15002,
          14870,
          14839,
          14807,
          14679,
          14630,
          14608,
          14515,
          14427,
          14421,
          14387,
          14344,
          14212,
          14048,
          14017,
          13911,
          13763,
          13752,
          13217,
          9320
         ]
        },
        {
         "hovertemplate": "Number of Reviews: %{y}",
         "mode": "markers+lines",
         "name": "2014",
         "showlegend": true,
         "type": "scatter",
         "y": [
          25458,
          25159,
          25080,
          25076,
          24767,
          24686,
          24525,
          24515,
          24408,
          24330,
          24158,
          24153,
          24064,
          24045,
          23951,
          23930,
          23893,
          23720,
          23630,
          23506,
          23461,
          23292,
          23131,
          23088,
          23059,
          22787,
          22684,
          22294,
          21965,
          21778,
          14632
         ]
        },
        {
         "hovertemplate": "Number of Reviews: %{y}",
         "mode": "markers+lines",
         "name": "2015",
         "showlegend": true,
         "type": "scatter",
         "y": [
          27521,
          26786,
          25624,
          25392,
          25367,
          25295,
          25286,
          25264,
          24937,
          24801,
          24762,
          24719,
          24611,
          24514,
          24504,
          24181,
          24006,
          23977,
          23931,
          23620,
          23614,
          23509,
          23447,
          23388,
          23156,
          22243,
          21729,
          21522,
          21262,
          21211,
          14334
         ]
        }
       ],
       "layout": {
        "font": {
         "color": "navy",
         "family": "Rockwell",
         "size": 14
        },
        "hoverlabel": {
         "bgcolor": "ivory",
         "font": {
          "family": "Rockwell",
          "size": 16
         }
        },
        "legend": {
         "tracegroupgap": 0
        },
        "margin": {
         "t": 60
        },
        "paper_bgcolor": "rgba(0,0,0,0)",
        "plot_bgcolor": "rgba(0,0,0,0)",
        "showlegend": false,
        "template": {
         "data": {
          "bar": [
           {
            "error_x": {
             "color": "#2a3f5f"
            },
            "error_y": {
             "color": "#2a3f5f"
            },
            "marker": {
             "line": {
              "color": "#E5ECF6",
              "width": 0.5
             },
             "pattern": {
              "fillmode": "overlay",
              "size": 10,
              "solidity": 0.2
             }
            },
            "type": "bar"
           }
          ],
          "barpolar": [
           {
            "marker": {
             "line": {
              "color": "#E5ECF6",
              "width": 0.5
             },
             "pattern": {
              "fillmode": "overlay",
              "size": 10,
              "solidity": 0.2
             }
            },
            "type": "barpolar"
           }
          ],
          "carpet": [
           {
            "aaxis": {
             "endlinecolor": "#2a3f5f",
             "gridcolor": "white",
             "linecolor": "white",
             "minorgridcolor": "white",
             "startlinecolor": "#2a3f5f"
            },
            "baxis": {
             "endlinecolor": "#2a3f5f",
             "gridcolor": "white",
             "linecolor": "white",
             "minorgridcolor": "white",
             "startlinecolor": "#2a3f5f"
            },
            "type": "carpet"
           }
          ],
          "choropleth": [
           {
            "colorbar": {
             "outlinewidth": 0,
             "ticks": ""
            },
            "type": "choropleth"
           }
          ],
          "contour": [
           {
            "colorbar": {
             "outlinewidth": 0,
             "ticks": ""
            },
            "colorscale": [
             [
              0,
              "#0d0887"
             ],
             [
              0.1111111111111111,
              "#46039f"
             ],
             [
              0.2222222222222222,
              "#7201a8"
             ],
             [
              0.3333333333333333,
              "#9c179e"
             ],
             [
              0.4444444444444444,
              "#bd3786"
             ],
             [
              0.5555555555555556,
              "#d8576b"
             ],
             [
              0.6666666666666666,
              "#ed7953"
             ],
             [
              0.7777777777777778,
              "#fb9f3a"
             ],
             [
              0.8888888888888888,
              "#fdca26"
             ],
             [
              1,
              "#f0f921"
             ]
            ],
            "type": "contour"
           }
          ],
          "contourcarpet": [
           {
            "colorbar": {
             "outlinewidth": 0,
             "ticks": ""
            },
            "type": "contourcarpet"
           }
          ],
          "heatmap": [
           {
            "colorbar": {
             "outlinewidth": 0,
             "ticks": ""
            },
            "colorscale": [
             [
              0,
              "#0d0887"
             ],
             [
              0.1111111111111111,
              "#46039f"
             ],
             [
              0.2222222222222222,
              "#7201a8"
             ],
             [
              0.3333333333333333,
              "#9c179e"
             ],
             [
              0.4444444444444444,
              "#bd3786"
             ],
             [
              0.5555555555555556,
              "#d8576b"
             ],
             [
              0.6666666666666666,
              "#ed7953"
             ],
             [
              0.7777777777777778,
              "#fb9f3a"
             ],
             [
              0.8888888888888888,
              "#fdca26"
             ],
             [
              1,
              "#f0f921"
             ]
            ],
            "type": "heatmap"
           }
          ],
          "heatmapgl": [
           {
            "colorbar": {
             "outlinewidth": 0,
             "ticks": ""
            },
            "colorscale": [
             [
              0,
              "#0d0887"
             ],
             [
              0.1111111111111111,
              "#46039f"
             ],
             [
              0.2222222222222222,
              "#7201a8"
             ],
             [
              0.3333333333333333,
              "#9c179e"
             ],
             [
              0.4444444444444444,
              "#bd3786"
             ],
             [
              0.5555555555555556,
              "#d8576b"
             ],
             [
              0.6666666666666666,
              "#ed7953"
             ],
             [
              0.7777777777777778,
              "#fb9f3a"
             ],
             [
              0.8888888888888888,
              "#fdca26"
             ],
             [
              1,
              "#f0f921"
             ]
            ],
            "type": "heatmapgl"
           }
          ],
          "histogram": [
           {
            "marker": {
             "pattern": {
              "fillmode": "overlay",
              "size": 10,
              "solidity": 0.2
             }
            },
            "type": "histogram"
           }
          ],
          "histogram2d": [
           {
            "colorbar": {
             "outlinewidth": 0,
             "ticks": ""
            },
            "colorscale": [
             [
              0,
              "#0d0887"
             ],
             [
              0.1111111111111111,
              "#46039f"
             ],
             [
              0.2222222222222222,
              "#7201a8"
             ],
             [
              0.3333333333333333,
              "#9c179e"
             ],
             [
              0.4444444444444444,
              "#bd3786"
             ],
             [
              0.5555555555555556,
              "#d8576b"
             ],
             [
              0.6666666666666666,
              "#ed7953"
             ],
             [
              0.7777777777777778,
              "#fb9f3a"
             ],
             [
              0.8888888888888888,
              "#fdca26"
             ],
             [
              1,
              "#f0f921"
             ]
            ],
            "type": "histogram2d"
           }
          ],
          "histogram2dcontour": [
           {
            "colorbar": {
             "outlinewidth": 0,
             "ticks": ""
            },
            "colorscale": [
             [
              0,
              "#0d0887"
             ],
             [
              0.1111111111111111,
              "#46039f"
             ],
             [
              0.2222222222222222,
              "#7201a8"
             ],
             [
              0.3333333333333333,
              "#9c179e"
             ],
             [
              0.4444444444444444,
              "#bd3786"
             ],
             [
              0.5555555555555556,
              "#d8576b"
             ],
             [
              0.6666666666666666,
              "#ed7953"
             ],
             [
              0.7777777777777778,
              "#fb9f3a"
             ],
             [
              0.8888888888888888,
              "#fdca26"
             ],
             [
              1,
              "#f0f921"
             ]
            ],
            "type": "histogram2dcontour"
           }
          ],
          "mesh3d": [
           {
            "colorbar": {
             "outlinewidth": 0,
             "ticks": ""
            },
            "type": "mesh3d"
           }
          ],
          "parcoords": [
           {
            "line": {
             "colorbar": {
              "outlinewidth": 0,
              "ticks": ""
             }
            },
            "type": "parcoords"
           }
          ],
          "pie": [
           {
            "automargin": true,
            "type": "pie"
           }
          ],
          "scatter": [
           {
            "fillpattern": {
             "fillmode": "overlay",
             "size": 10,
             "solidity": 0.2
            },
            "type": "scatter"
           }
          ],
          "scatter3d": [
           {
            "line": {
             "colorbar": {
              "outlinewidth": 0,
              "ticks": ""
             }
            },
            "marker": {
             "colorbar": {
              "outlinewidth": 0,
              "ticks": ""
             }
            },
            "type": "scatter3d"
           }
          ],
          "scattercarpet": [
           {
            "marker": {
             "colorbar": {
              "outlinewidth": 0,
              "ticks": ""
             }
            },
            "type": "scattercarpet"
           }
          ],
          "scattergeo": [
           {
            "marker": {
             "colorbar": {
              "outlinewidth": 0,
              "ticks": ""
             }
            },
            "type": "scattergeo"
           }
          ],
          "scattergl": [
           {
            "marker": {
             "colorbar": {
              "outlinewidth": 0,
              "ticks": ""
             }
            },
            "type": "scattergl"
           }
          ],
          "scattermapbox": [
           {
            "marker": {
             "colorbar": {
              "outlinewidth": 0,
              "ticks": ""
             }
            },
            "type": "scattermapbox"
           }
          ],
          "scatterpolar": [
           {
            "marker": {
             "colorbar": {
              "outlinewidth": 0,
              "ticks": ""
             }
            },
            "type": "scatterpolar"
           }
          ],
          "scatterpolargl": [
           {
            "marker": {
             "colorbar": {
              "outlinewidth": 0,
              "ticks": ""
             }
            },
            "type": "scatterpolargl"
           }
          ],
          "scatterternary": [
           {
            "marker": {
             "colorbar": {
              "outlinewidth": 0,
              "ticks": ""
             }
            },
            "type": "scatterternary"
           }
          ],
          "surface": [
           {
            "colorbar": {
             "outlinewidth": 0,
             "ticks": ""
            },
            "colorscale": [
             [
              0,
              "#0d0887"
             ],
             [
              0.1111111111111111,
              "#46039f"
             ],
             [
              0.2222222222222222,
              "#7201a8"
             ],
             [
              0.3333333333333333,
              "#9c179e"
             ],
             [
              0.4444444444444444,
              "#bd3786"
             ],
             [
              0.5555555555555556,
              "#d8576b"
             ],
             [
              0.6666666666666666,
              "#ed7953"
             ],
             [
              0.7777777777777778,
              "#fb9f3a"
             ],
             [
              0.8888888888888888,
              "#fdca26"
             ],
             [
              1,
              "#f0f921"
             ]
            ],
            "type": "surface"
           }
          ],
          "table": [
           {
            "cells": {
             "fill": {
              "color": "#EBF0F8"
             },
             "line": {
              "color": "white"
             }
            },
            "header": {
             "fill": {
              "color": "#C8D4E3"
             },
             "line": {
              "color": "white"
             }
            },
            "type": "table"
           }
          ]
         },
         "layout": {
          "annotationdefaults": {
           "arrowcolor": "#2a3f5f",
           "arrowhead": 0,
           "arrowwidth": 1
          },
          "autotypenumbers": "strict",
          "coloraxis": {
           "colorbar": {
            "outlinewidth": 0,
            "ticks": ""
           }
          },
          "colorscale": {
           "diverging": [
            [
             0,
             "#8e0152"
            ],
            [
             0.1,
             "#c51b7d"
            ],
            [
             0.2,
             "#de77ae"
            ],
            [
             0.3,
             "#f1b6da"
            ],
            [
             0.4,
             "#fde0ef"
            ],
            [
             0.5,
             "#f7f7f7"
            ],
            [
             0.6,
             "#e6f5d0"
            ],
            [
             0.7,
             "#b8e186"
            ],
            [
             0.8,
             "#7fbc41"
            ],
            [
             0.9,
             "#4d9221"
            ],
            [
             1,
             "#276419"
            ]
           ],
           "sequential": [
            [
             0,
             "#0d0887"
            ],
            [
             0.1111111111111111,
             "#46039f"
            ],
            [
             0.2222222222222222,
             "#7201a8"
            ],
            [
             0.3333333333333333,
             "#9c179e"
            ],
            [
             0.4444444444444444,
             "#bd3786"
            ],
            [
             0.5555555555555556,
             "#d8576b"
            ],
            [
             0.6666666666666666,
             "#ed7953"
            ],
            [
             0.7777777777777778,
             "#fb9f3a"
            ],
            [
             0.8888888888888888,
             "#fdca26"
            ],
            [
             1,
             "#f0f921"
            ]
           ],
           "sequentialminus": [
            [
             0,
             "#0d0887"
            ],
            [
             0.1111111111111111,
             "#46039f"
            ],
            [
             0.2222222222222222,
             "#7201a8"
            ],
            [
             0.3333333333333333,
             "#9c179e"
            ],
            [
             0.4444444444444444,
             "#bd3786"
            ],
            [
             0.5555555555555556,
             "#d8576b"
            ],
            [
             0.6666666666666666,
             "#ed7953"
            ],
            [
             0.7777777777777778,
             "#fb9f3a"
            ],
            [
             0.8888888888888888,
             "#fdca26"
            ],
            [
             1,
             "#f0f921"
            ]
           ]
          },
          "colorway": [
           "#636efa",
           "#EF553B",
           "#00cc96",
           "#ab63fa",
           "#FFA15A",
           "#19d3f3",
           "#FF6692",
           "#B6E880",
           "#FF97FF",
           "#FECB52"
          ],
          "font": {
           "color": "#2a3f5f"
          },
          "geo": {
           "bgcolor": "white",
           "lakecolor": "white",
           "landcolor": "#E5ECF6",
           "showlakes": true,
           "showland": true,
           "subunitcolor": "white"
          },
          "hoverlabel": {
           "align": "left"
          },
          "hovermode": "closest",
          "mapbox": {
           "style": "light"
          },
          "paper_bgcolor": "white",
          "plot_bgcolor": "#E5ECF6",
          "polar": {
           "angularaxis": {
            "gridcolor": "white",
            "linecolor": "white",
            "ticks": ""
           },
           "bgcolor": "#E5ECF6",
           "radialaxis": {
            "gridcolor": "white",
            "linecolor": "white",
            "ticks": ""
           }
          },
          "scene": {
           "xaxis": {
            "backgroundcolor": "#E5ECF6",
            "gridcolor": "white",
            "gridwidth": 2,
            "linecolor": "white",
            "showbackground": true,
            "ticks": "",
            "zerolinecolor": "white"
           },
           "yaxis": {
            "backgroundcolor": "#E5ECF6",
            "gridcolor": "white",
            "gridwidth": 2,
            "linecolor": "white",
            "showbackground": true,
            "ticks": "",
            "zerolinecolor": "white"
           },
           "zaxis": {
            "backgroundcolor": "#E5ECF6",
            "gridcolor": "white",
            "gridwidth": 2,
            "linecolor": "white",
            "showbackground": true,
            "ticks": "",
            "zerolinecolor": "white"
           }
          },
          "shapedefaults": {
           "line": {
            "color": "#2a3f5f"
           }
          },
          "ternary": {
           "aaxis": {
            "gridcolor": "white",
            "linecolor": "white",
            "ticks": ""
           },
           "baxis": {
            "gridcolor": "white",
            "linecolor": "white",
            "ticks": ""
           },
           "bgcolor": "#E5ECF6",
           "caxis": {
            "gridcolor": "white",
            "linecolor": "white",
            "ticks": ""
           }
          },
          "title": {
           "x": 0.05
          },
          "xaxis": {
           "automargin": true,
           "gridcolor": "white",
           "linecolor": "white",
           "ticks": "",
           "title": {
            "standoff": 15
           },
           "zerolinecolor": "white",
           "zerolinewidth": 2
          },
          "yaxis": {
           "automargin": true,
           "gridcolor": "white",
           "linecolor": "white",
           "ticks": "",
           "title": {
            "standoff": 15
           },
           "zerolinecolor": "white",
           "zerolinewidth": 2
          }
         }
        },
        "title": {
         "font": {
          "size": 20
         },
         "text": "Reviews Over Time",
         "x": 0.5
        },
        "xaxis": {
         "anchor": "y",
         "domain": [
          0,
          1
         ],
         "gridcolor": "lightgray",
         "gridwidth": 1,
         "showgrid": true,
         "title": {
          "text": "Day"
         }
        },
        "yaxis": {
         "anchor": "x",
         "domain": [
          0,
          1
         ],
         "gridcolor": "lightgray",
         "gridwidth": 1,
         "showgrid": true,
         "title": {
          "text": "Number of Reviews"
         }
        }
       }
      }
     },
     "metadata": {},
     "output_type": "display_data"
    }
   ],
   "source": [
    "groups = df.groupby('review_year')\n",
    "\n",
    "fig = px.scatter()\n",
    "\n",
    "for group in groups:\n",
    "    fig.add_trace(\n",
    "        go.Scatter(\n",
    "            y=group[1]['review_day'].value_counts(),\n",
    "            name=str(group[1]['review_year'].iloc[0]),\n",
    "            showlegend=True,\n",
    "        )\n",
    "    )\n",
    "\n",
    "fig.update_traces(\n",
    "    mode='markers+lines',\n",
    "    hovertemplate='Number of Reviews: %{y}')\n",
    "\n",
    "fig.update_xaxes(title='Day',\n",
    "    gridcolor='lightgray',\n",
    "                 showgrid=True, \n",
    "                 gridwidth=1)\n",
    "\n",
    "fig.update_yaxes(title='Number of Reviews',\n",
    "    gridcolor='lightgray',\n",
    "                 showgrid=True, \n",
    "                 gridwidth=1)\n",
    "\n",
    "fig.update_layout(title='Reviews Over Time',\n",
    "    paper_bgcolor='rgba(0,0,0,0)',\n",
    "                  plot_bgcolor='rgba(0,0,0,0)',\n",
    "                  title_font_size=20,\n",
    "                  showlegend=False,\n",
    "                  hoverlabel=dict(\n",
    "                      bgcolor='ivory',\n",
    "                      font_size=16,\n",
    "                      font_family='Rockwell'),\n",
    "                  font=dict(family='Rockwell', \n",
    "                            color='navy',\n",
    "                            size=14), \n",
    "                  title_x=0.5)\n",
    "\n",
    "fig.show()"
   ]
  },
  {
   "cell_type": "code",
   "execution_count": 18,
   "metadata": {},
   "outputs": [],
   "source": [
    "docs = df.review_headline.astype('O').copy() + ' ' + df.review_body.astype('O').copy()"
   ]
  },
  {
   "cell_type": "code",
   "execution_count": 19,
   "metadata": {},
   "outputs": [
    {
     "data": {
      "text/plain": [
       "0          Using these for years - love them. As a family...\n",
       "1          Wonderful My favorite nut.  Creamy, crunchy, s...\n",
       "2          Five Stars This green tea tastes so good! My g...\n",
       "3          Five Stars I love Melissa's brand but this is ...\n",
       "4                                            Five Stars good\n",
       "                                 ...                        \n",
       "2402453    Different The Amor Belhom Duo are likely the o...\n",
       "2402454    This  Horse  Is  Gorgourges! Being  a  Breyer ...\n",
       "2402455    brilliant, realistic model! This model is beau...\n",
       "2402456    don't have it yet..but  will soon As a person ...\n",
       "2402457    Great This Breyer horse is wonderful. She is b...\n",
       "Length: 2402458, dtype: object"
      ]
     },
     "execution_count": 19,
     "metadata": {},
     "output_type": "execute_result"
    }
   ],
   "source": [
    "docs"
   ]
  },
  {
   "cell_type": "code",
   "execution_count": 17,
   "metadata": {},
   "outputs": [],
   "source": [
    "from nltk.stem import WordNetLemmatizer\n",
    "from nltk.tokenize import word_tokenize"
   ]
  },
  {
   "cell_type": "code",
   "execution_count": 51,
   "metadata": {},
   "outputs": [],
   "source": [
    "def tokenize(doc):\n",
    "    doc = re.sub('[^a-z]', ' ', doc.lower())\n",
    "    tokens = word_tokenize(doc)\n",
    "    lem = WordNetLemmatizer().lemmatize\n",
    "    tokens = [lem(token,'a').strip() for token in tokens if token not in nlp.Defaults.stop_words]\n",
    "    tokens = [lem(token,'v').strip() for token in tokens if token not in nlp.Defaults.stop_words]\n",
    "    return tokens"
   ]
  },
  {
   "cell_type": "code",
   "execution_count": 24,
   "metadata": {},
   "outputs": [],
   "source": [
    "def tokenize(doc):\n",
    "    doc = re.sub('[^a-z]', ' ', doc.lower())\n",
    "    doc = nlp(doc)\n",
    "    tokens = [token.lemma_ for token in doc if token not in nlp.Defaults.stop_words]\n",
    "    return tokens"
   ]
  },
  {
   "cell_type": "code",
   "execution_count": 52,
   "metadata": {},
   "outputs": [
    {
     "data": {
      "text/plain": [
       "['make', 'smelly', 'sentence', 'drive', 'drivers', 'eat']"
      ]
     },
     "execution_count": 52,
     "metadata": {},
     "output_type": "execute_result"
    }
   ],
   "source": [
    "tokenize('This is a, and !!! nothing is making me $))() smellier sentences about driving and drivers eating')"
   ]
  }
 ],
 "metadata": {
  "kernelspec": {
   "display_name": "dmc",
   "language": "python",
   "name": "dmc"
  },
  "language_info": {
   "codemirror_mode": {
    "name": "ipython",
    "version": 3
   },
   "file_extension": ".py",
   "mimetype": "text/x-python",
   "name": "python",
   "nbconvert_exporter": "python",
   "pygments_lexer": "ipython3",
   "version": "3.9.1"
  },
  "orig_nbformat": 4,
  "vscode": {
   "interpreter": {
    "hash": "7fd038eb66f7611038422bbe35b601adb93492a51eef6cce5c1c9bc0f45f0f3c"
   }
  }
 },
 "nbformat": 4,
 "nbformat_minor": 2
}
